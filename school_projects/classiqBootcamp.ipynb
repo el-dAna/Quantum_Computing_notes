{
 "cells": [
  {
   "cell_type": "code",
   "execution_count": 30,
   "metadata": {},
   "outputs": [],
   "source": [
    "import classiq\n",
    "\n",
    "from classiq.builtin_functions import StatePreparation\n",
    "from classiq import RegisterUserInput\n",
    "from classiq.builtin_functions import Adder\n",
    "from classiq import Model\n",
    "\n",
    "# for execution\n",
    "from classiq.execution import ExecutionPreferences, IBMBackendPreferences\n",
    "from classiq.synthesis import set_execution_preferences\n",
    "\n",
    "# for synthesis\n",
    "from classiq.model import Preferences\n",
    "from classiq.synthesis import set_preferences\n",
    "\n",
    "#for optimisation\n",
    "from classiq.model import Constraints\n",
    "from classiq.synthesis import set_constraints\n",
    "\n",
    "from classiq import synthesize\n",
    "\n",
    "# visualise\n",
    "from classiq import GeneratedCircuit\n",
    "from classiq import show\n",
    "\n",
    "# execution on device\n",
    "from classiq import execute\n",
    "from classiq.execution import ExecutionDetails\n"
   ]
  },
  {
   "cell_type": "code",
   "execution_count": 24,
   "metadata": {},
   "outputs": [
    {
     "name": "stdout",
     "output_type": "stream",
     "text": [
      "Your user code: VLDH-SBVL\n",
      "If a browser doesn't automatically open, please visit the url: https://auth.classiq.io/activate?user_code=VLDH-SBVL\n"
     ]
    }
   ],
   "source": [
    "classiq.authenticate()"
   ]
  },
  {
   "cell_type": "code",
   "execution_count": 5,
   "metadata": {},
   "outputs": [],
   "source": [
    "prob_a = [0.5, 0, 0, 0.5]\n",
    "prob_b = [0, 0.5, 0.5, 0]"
   ]
  },
  {
   "cell_type": "code",
   "execution_count": 6,
   "metadata": {},
   "outputs": [],
   "source": [
    "sp_a = StatePreparation(\n",
    "    probabilities=prob_a, error_metric={\"KL\": {\"upper_bound\": 0.01}}\n",
    ")\n",
    "\n",
    "sp_b = StatePreparation(\n",
    "    probabilities=prob_b, error_metric={\"KL\": {\"upper_bound\": 0.01}}\n",
    ")"
   ]
  },
  {
   "cell_type": "code",
   "execution_count": 7,
   "metadata": {},
   "outputs": [],
   "source": [
    "\n",
    "adder = Adder(\n",
    "    left_arg=RegisterUserInput(size=2),\n",
    "    right_arg=RegisterUserInput(size=2),\n",
    ")"
   ]
  },
  {
   "cell_type": "code",
   "execution_count": 8,
   "metadata": {},
   "outputs": [],
   "source": [
    "model = Model()\n"
   ]
  },
  {
   "cell_type": "code",
   "execution_count": 9,
   "metadata": {},
   "outputs": [],
   "source": [
    "a = model.StatePreparation(params=sp_a)\n",
    "b = model.StatePreparation(params=sp_b)"
   ]
  },
  {
   "cell_type": "code",
   "execution_count": 10,
   "metadata": {},
   "outputs": [],
   "source": [
    "adder_out = model.Adder(\n",
    "    params=adder, in_wires={\"left_arg\": a[\"OUT\"], \"right_arg\": b[\"OUT\"]}\n",
    ")"
   ]
  },
  {
   "cell_type": "code",
   "execution_count": 11,
   "metadata": {},
   "outputs": [],
   "source": [
    "model.set_outputs(\n",
    "    {\"a\": adder_out[\"left_arg\"], \"b\": adder_out[\"right_arg\"], \"sum\": adder_out[\"sum\"]}\n",
    ")\n",
    "# sum is added here to tell the model this is what we are interested in"
   ]
  },
  {
   "cell_type": "code",
   "execution_count": 12,
   "metadata": {},
   "outputs": [],
   "source": [
    "model.sample()"
   ]
  },
  {
   "cell_type": "code",
   "execution_count": 14,
   "metadata": {},
   "outputs": [],
   "source": [
    "backend_preferences = IBMBackendPreferences(\n",
    "    backend_service_provider=\"IBM Quantum\", backend_name=\"aer_simulator_statevector\"\n",
    ")\n",
    "\n",
    "serialized_model = model.get_model()\n",
    "\n",
    "serialized_model = set_execution_preferences(\n",
    "    serialized_model,\n",
    "    execution_preferences=ExecutionPreferences(backend_preferences=backend_preferences),\n",
    ")"
   ]
  },
  {
   "cell_type": "code",
   "execution_count": 16,
   "metadata": {},
   "outputs": [],
   "source": [
    "seed = 206755496\n",
    "preferences = Preferences(random_seed=seed)\n",
    "serialized_model = set_preferences(serialized_model, preferences=preferences)"
   ]
  },
  {
   "cell_type": "code",
   "execution_count": 18,
   "metadata": {},
   "outputs": [],
   "source": [
    "\n",
    "constraints = Constraints(optimization_parameter=\"depth\")\n",
    "serialized_model = set_constraints(serialized_model, constraints=constraints)"
   ]
  },
  {
   "cell_type": "code",
   "execution_count": null,
   "metadata": {},
   "outputs": [],
   "source": [
    "qmod = model.get_model()\n",
    "print(qmod)"
   ]
  },
  {
   "cell_type": "code",
   "execution_count": 25,
   "metadata": {},
   "outputs": [
    {
     "name": "stdout",
     "output_type": "stream",
     "text": [
      "{'a': (0, 1), 'b': (2, 3), 'sum': (4, 5, 6)}\n"
     ]
    }
   ],
   "source": [
    "\n",
    "qprog = synthesize(serialized_model)\n",
    "\n",
    "circuit = GeneratedCircuit.from_qprog(qprog)\n",
    "\n",
    "print(circuit.data.qubit_mapping.logical_outputs)"
   ]
  },
  {
   "cell_type": "code",
   "execution_count": 27,
   "metadata": {},
   "outputs": [
    {
     "name": "stdout",
     "output_type": "stream",
     "text": [
      "Opening: https://platform.classiq.io/circuit/bf95af1c-0c59-4b49-90e1-c6fe11dff745?version=0.29.2\n"
     ]
    }
   ],
   "source": [
    "\n",
    "show(qprog)\n",
    "\n",
    "# circuit.save_results(\"my_arithmetic_circuit.json\")"
   ]
  },
  {
   "cell_type": "code",
   "execution_count": 31,
   "metadata": {},
   "outputs": [
    {
     "name": "stdout",
     "output_type": "stream",
     "text": [
      "{'1011011': 514, '0010100': 469, '0101000': 556, '1000111': 509}\n"
     ]
    }
   ],
   "source": [
    "results_raw = execute(qprog).result()\n",
    "results = results_raw[0].value\n",
    "print(results.counts)"
   ]
  },
  {
   "cell_type": "code",
   "execution_count": 32,
   "metadata": {},
   "outputs": [
    {
     "name": "stdout",
     "output_type": "stream",
     "text": [
      "{('11', '01', '101'): 514, ('00', '10', '100'): 469, ('00', '01', '010'): 556, ('11', '10', '001'): 509}\n"
     ]
    }
   ],
   "source": [
    "output_results = results.counts_of_multiple_outputs([\"a\", \"b\", \"sum\"])\n",
    "print(output_results)"
   ]
  },
  {
   "cell_type": "code",
   "execution_count": 33,
   "metadata": {},
   "outputs": [
    {
     "name": "stdout",
     "output_type": "stream",
     "text": [
      "3 + 2 = 5\n",
      "0 + 1 = 1\n",
      "0 + 2 = 2\n",
      "3 + 1 = 4\n"
     ]
    }
   ],
   "source": [
    "def str2num(str):\n",
    "    return int(str[::-1], 2)\n",
    "\n",
    "for tupple in output_results.keys():\n",
    "    print(str2num(tupple[0]), \"+\", str2num(tupple[1]), \"=\", str2num(tupple[2]))"
   ]
  },
  {
   "cell_type": "code",
   "execution_count": 34,
   "metadata": {},
   "outputs": [
    {
     "name": "stdout",
     "output_type": "stream",
     "text": [
      "circuit width:  8  circuit depth:  27\n"
     ]
    }
   ],
   "source": [
    "print(\n",
    "    \"circuit width: \",\n",
    "    circuit.data.width,\n",
    "    \" circuit depth: \",\n",
    "    circuit.transpiled_circuit.depth,\n",
    ")"
   ]
  },
  {
   "cell_type": "code",
   "execution_count": 35,
   "metadata": {},
   "outputs": [],
   "source": [
    "# optimising for widht\n",
    "constraints = Constraints(optimization_parameter=\"width\")\n",
    "serialized_model_optimized_for_width = set_constraints(\n",
    "    serialized_model, constraints=constraints\n",
    ")\n",
    "qprog_optimized_for_width = synthesize(serialized_model_optimized_for_width)"
   ]
  },
  {
   "cell_type": "code",
   "execution_count": 36,
   "metadata": {},
   "outputs": [
    {
     "name": "stdout",
     "output_type": "stream",
     "text": [
      "circuit width:  7  circuit depth:  31\n"
     ]
    }
   ],
   "source": [
    "circuit_optimized_for_width = GeneratedCircuit.from_qprog(qprog_optimized_for_width)\n",
    "\n",
    "print(\n",
    "    \"circuit width: \",\n",
    "    circuit_optimized_for_width.data.width,\n",
    "    \" circuit depth: \",\n",
    "    circuit_optimized_for_width.transpiled_circuit.depth,\n",
    ")"
   ]
  },
  {
   "cell_type": "code",
   "execution_count": 41,
   "metadata": {},
   "outputs": [],
   "source": [
    "# \n",
    "from classiq.builtin_functions import RYGate\n",
    "import numpy as np\n"
   ]
  },
  {
   "cell_type": "code",
   "execution_count": 43,
   "metadata": {},
   "outputs": [],
   "source": [
    "model2 = Model()\n",
    "ry_params = RYGate(theta='x') # defining building block\n",
    "model2.RYGate(params = ry_params) # wiring building block into model\n",
    "\n",
    "#defining sample execution scheme\n",
    "execution_params = {'x': np.pi/7}\n",
    "model.sample(execution_params=execution_params)"
   ]
  },
  {
   "cell_type": "code",
   "execution_count": 44,
   "metadata": {},
   "outputs": [
    {
     "ename": "ClassiqAPIError",
     "evalue": "Call to API failed with code 500: Error number 11193 occurred. Classical function not defined, and the quantum function requires execution parameters. Please define the classical function.\n\nError identifier: E5DA94D18-27B4-456C-9547-06B478875334.\nIf you need further assistance, please reach out on our Community Slack channel at: https://short.classiq.io/join-slack\nIf the error persists feel free to open a ticket at: https://short.classiq.io/support",
     "output_type": "error",
     "traceback": [
      "\u001b[1;31m---------------------------------------------------------------------------\u001b[0m",
      "\u001b[1;31mClassiqAPIError\u001b[0m                           Traceback (most recent call last)",
      "\u001b[1;32mc:\\Users\\BenjaminAtadana\\YandexDisk\\MY_FILES\\School_Side_Works\\Quantum_Computing_notes\\school_projects\\classiqBootcamp.ipynb Cell 25\u001b[0m line \u001b[0;36m2\n\u001b[0;32m      <a href='vscode-notebook-cell:/c%3A/Users/BenjaminAtadana/YandexDisk/MY_FILES/School_Side_Works/Quantum_Computing_notes/school_projects/classiqBootcamp.ipynb#X34sZmlsZQ%3D%3D?line=0'>1</a>\u001b[0m qprog2 \u001b[39m=\u001b[39m synthesize(model2\u001b[39m.\u001b[39mget_model())\n\u001b[1;32m----> <a href='vscode-notebook-cell:/c%3A/Users/BenjaminAtadana/YandexDisk/MY_FILES/School_Side_Works/Quantum_Computing_notes/school_projects/classiqBootcamp.ipynb#X34sZmlsZQ%3D%3D?line=1'>2</a>\u001b[0m results \u001b[39m=\u001b[39m execute(qprog2)\n",
      "File \u001b[1;32mc:\\Users\\BenjaminAtadana\\anaconda3\\envs\\Qsum_venv\\Lib\\site-packages\\classiq\\_internals\\async_utils.py:50\u001b[0m, in \u001b[0;36msyncify_function.<locals>.async_wrapper\u001b[1;34m(*args, **kwargs)\u001b[0m\n\u001b[0;32m     48\u001b[0m \u001b[39m@functools\u001b[39m\u001b[39m.\u001b[39mwraps(async_func)\n\u001b[0;32m     49\u001b[0m \u001b[39mdef\u001b[39;00m \u001b[39masync_wrapper\u001b[39m(\u001b[39m*\u001b[39margs: Any, \u001b[39m*\u001b[39m\u001b[39m*\u001b[39mkwargs: Any) \u001b[39m-\u001b[39m\u001b[39m>\u001b[39m T:\n\u001b[1;32m---> 50\u001b[0m     \u001b[39mreturn\u001b[39;00m run(async_func(\u001b[39m*\u001b[39;49margs, \u001b[39m*\u001b[39;49m\u001b[39m*\u001b[39;49mkwargs))\n",
      "File \u001b[1;32mc:\\Users\\BenjaminAtadana\\anaconda3\\envs\\Qsum_venv\\Lib\\site-packages\\classiq\\_internals\\async_utils.py:44\u001b[0m, in \u001b[0;36mrun\u001b[1;34m(coro)\u001b[0m\n\u001b[0;32m     39\u001b[0m \u001b[39mdef\u001b[39;00m \u001b[39mrun\u001b[39m(coro: Awaitable[T]) \u001b[39m-\u001b[39m\u001b[39m>\u001b[39m T:\n\u001b[0;32m     40\u001b[0m     \u001b[39m# Use this function instead of asyncio.run, since it ALWAYS\u001b[39;00m\n\u001b[0;32m     41\u001b[0m     \u001b[39m# creates a new event loop and clears the thread event loop.\u001b[39;00m\n\u001b[0;32m     42\u001b[0m     \u001b[39m# Never use asyncio.run in library code.\u001b[39;00m\n\u001b[0;32m     43\u001b[0m     loop \u001b[39m=\u001b[39m get_event_loop()\n\u001b[1;32m---> 44\u001b[0m     \u001b[39mreturn\u001b[39;00m loop\u001b[39m.\u001b[39;49mrun_until_complete(coro)\n",
      "File \u001b[1;32mc:\\Users\\BenjaminAtadana\\anaconda3\\envs\\Qsum_venv\\Lib\\site-packages\\nest_asyncio.py:90\u001b[0m, in \u001b[0;36m_patch_loop.<locals>.run_until_complete\u001b[1;34m(self, future)\u001b[0m\n\u001b[0;32m     87\u001b[0m \u001b[39mif\u001b[39;00m \u001b[39mnot\u001b[39;00m f\u001b[39m.\u001b[39mdone():\n\u001b[0;32m     88\u001b[0m     \u001b[39mraise\u001b[39;00m \u001b[39mRuntimeError\u001b[39;00m(\n\u001b[0;32m     89\u001b[0m         \u001b[39m'\u001b[39m\u001b[39mEvent loop stopped before Future completed.\u001b[39m\u001b[39m'\u001b[39m)\n\u001b[1;32m---> 90\u001b[0m \u001b[39mreturn\u001b[39;00m f\u001b[39m.\u001b[39;49mresult()\n",
      "File \u001b[1;32mc:\\Users\\BenjaminAtadana\\anaconda3\\envs\\Qsum_venv\\Lib\\asyncio\\futures.py:203\u001b[0m, in \u001b[0;36mFuture.result\u001b[1;34m(self)\u001b[0m\n\u001b[0;32m    201\u001b[0m \u001b[39mself\u001b[39m\u001b[39m.\u001b[39m__log_traceback \u001b[39m=\u001b[39m \u001b[39mFalse\u001b[39;00m\n\u001b[0;32m    202\u001b[0m \u001b[39mif\u001b[39;00m \u001b[39mself\u001b[39m\u001b[39m.\u001b[39m_exception \u001b[39mis\u001b[39;00m \u001b[39mnot\u001b[39;00m \u001b[39mNone\u001b[39;00m:\n\u001b[1;32m--> 203\u001b[0m     \u001b[39mraise\u001b[39;00m \u001b[39mself\u001b[39m\u001b[39m.\u001b[39m_exception\u001b[39m.\u001b[39mwith_traceback(\u001b[39mself\u001b[39m\u001b[39m.\u001b[39m_exception_tb)\n\u001b[0;32m    204\u001b[0m \u001b[39mreturn\u001b[39;00m \u001b[39mself\u001b[39m\u001b[39m.\u001b[39m_result\n",
      "File \u001b[1;32mc:\\Users\\BenjaminAtadana\\anaconda3\\envs\\Qsum_venv\\Lib\\asyncio\\tasks.py:267\u001b[0m, in \u001b[0;36mTask.__step\u001b[1;34m(***failed resolving arguments***)\u001b[0m\n\u001b[0;32m    263\u001b[0m \u001b[39mtry\u001b[39;00m:\n\u001b[0;32m    264\u001b[0m     \u001b[39mif\u001b[39;00m exc \u001b[39mis\u001b[39;00m \u001b[39mNone\u001b[39;00m:\n\u001b[0;32m    265\u001b[0m         \u001b[39m# We use the `send` method directly, because coroutines\u001b[39;00m\n\u001b[0;32m    266\u001b[0m         \u001b[39m# don't have `__iter__` and `__next__` methods.\u001b[39;00m\n\u001b[1;32m--> 267\u001b[0m         result \u001b[39m=\u001b[39m coro\u001b[39m.\u001b[39msend(\u001b[39mNone\u001b[39;00m)\n\u001b[0;32m    268\u001b[0m     \u001b[39melse\u001b[39;00m:\n\u001b[0;32m    269\u001b[0m         result \u001b[39m=\u001b[39m coro\u001b[39m.\u001b[39mthrow(exc)\n",
      "File \u001b[1;32mc:\\Users\\BenjaminAtadana\\anaconda3\\envs\\Qsum_venv\\Lib\\site-packages\\classiq\\executor.py:65\u001b[0m, in \u001b[0;36mexecute_async\u001b[1;34m(quantum_program)\u001b[0m\n\u001b[0;32m     63\u001b[0m \u001b[39masync\u001b[39;00m \u001b[39mdef\u001b[39;00m \u001b[39mexecute_async\u001b[39m(quantum_program: SerializedQuantumProgram) \u001b[39m-\u001b[39m\u001b[39m>\u001b[39m ExecutionJob:\n\u001b[0;32m     64\u001b[0m     circuit \u001b[39m=\u001b[39m _parse_serialized_qprog(quantum_program)\n\u001b[1;32m---> 65\u001b[0m     result \u001b[39m=\u001b[39m \u001b[39mawait\u001b[39;00m ApiWrapper\u001b[39m.\u001b[39mcall_execute_generated_circuit(circuit)\n\u001b[0;32m     66\u001b[0m     \u001b[39mreturn\u001b[39;00m ExecutionJob(\u001b[39mid\u001b[39m\u001b[39m=\u001b[39mresult\u001b[39m.\u001b[39mjob_id)\n",
      "File \u001b[1;32mc:\\Users\\BenjaminAtadana\\anaconda3\\envs\\Qsum_venv\\Lib\\site-packages\\classiq\\_internals\\api_wrapper.py:101\u001b[0m, in \u001b[0;36mApiWrapper.call_execute_generated_circuit\u001b[1;34m(cls, circuit)\u001b[0m\n\u001b[0;32m     96\u001b[0m \u001b[39m@classmethod\u001b[39m\n\u001b[0;32m     97\u001b[0m \u001b[39masync\u001b[39;00m \u001b[39mdef\u001b[39;00m \u001b[39mcall_execute_generated_circuit\u001b[39m(\n\u001b[0;32m     98\u001b[0m     \u001b[39mcls\u001b[39m,\n\u001b[0;32m     99\u001b[0m     circuit: _Circuit,\n\u001b[0;32m    100\u001b[0m ) \u001b[39m-\u001b[39m\u001b[39m>\u001b[39m JobID:\n\u001b[1;32m--> 101\u001b[0m     data \u001b[39m=\u001b[39m \u001b[39mawait\u001b[39;00m \u001b[39mcls\u001b[39m\u001b[39m.\u001b[39m_call_task_pydantic(\n\u001b[0;32m    102\u001b[0m         http_method\u001b[39m=\u001b[39mHTTPMethod\u001b[39m.\u001b[39mPOST,\n\u001b[0;32m    103\u001b[0m         url\u001b[39m=\u001b[39mroutes\u001b[39m.\u001b[39mEXECUTE_GENERATED_CIRCUIT_FULL_PATH,\n\u001b[0;32m    104\u001b[0m         model\u001b[39m=\u001b[39mcircuit,\n\u001b[0;32m    105\u001b[0m     )\n\u001b[0;32m    106\u001b[0m     \u001b[39mreturn\u001b[39;00m JobID\u001b[39m.\u001b[39mparse_obj(data)\n",
      "File \u001b[1;32mc:\\Users\\BenjaminAtadana\\anaconda3\\envs\\Qsum_venv\\Lib\\site-packages\\classiq\\_internals\\api_wrapper.py:73\u001b[0m, in \u001b[0;36mApiWrapper._call_task_pydantic\u001b[1;34m(cls, http_method, url, model)\u001b[0m\n\u001b[0;32m     65\u001b[0m \u001b[39m@classmethod\u001b[39m\n\u001b[0;32m     66\u001b[0m \u001b[39masync\u001b[39;00m \u001b[39mdef\u001b[39;00m \u001b[39m_call_task_pydantic\u001b[39m(\n\u001b[0;32m     67\u001b[0m     \u001b[39mcls\u001b[39m, http_method: \u001b[39mstr\u001b[39m, url: \u001b[39mstr\u001b[39m, model: pydantic\u001b[39m.\u001b[39mBaseModel\n\u001b[1;32m   (...)\u001b[0m\n\u001b[0;32m     70\u001b[0m     \u001b[39m# This was added because JSON serializer doesn't serialize complex type, and pydantic does.\u001b[39;00m\n\u001b[0;32m     71\u001b[0m     \u001b[39m# We should add support for smarter json serialization.\u001b[39;00m\n\u001b[0;32m     72\u001b[0m     body \u001b[39m=\u001b[39m json\u001b[39m.\u001b[39mloads(model\u001b[39m.\u001b[39mjson())\n\u001b[1;32m---> 73\u001b[0m     \u001b[39mreturn\u001b[39;00m \u001b[39mawait\u001b[39;00m \u001b[39mcls\u001b[39m\u001b[39m.\u001b[39m_call_task(http_method, url, body)\n",
      "File \u001b[1;32mc:\\Users\\BenjaminAtadana\\anaconda3\\envs\\Qsum_venv\\Lib\\site-packages\\classiq\\_internals\\api_wrapper.py:83\u001b[0m, in \u001b[0;36mApiWrapper._call_task\u001b[1;34m(cls, http_method, url, body, params)\u001b[0m\n\u001b[0;32m     75\u001b[0m \u001b[39m@classmethod\u001b[39m\n\u001b[0;32m     76\u001b[0m \u001b[39masync\u001b[39;00m \u001b[39mdef\u001b[39;00m \u001b[39m_call_task\u001b[39m(\n\u001b[0;32m     77\u001b[0m     \u001b[39mcls\u001b[39m,\n\u001b[1;32m   (...)\u001b[0m\n\u001b[0;32m     81\u001b[0m     params: Optional[Dict] \u001b[39m=\u001b[39m \u001b[39mNone\u001b[39;00m,\n\u001b[0;32m     82\u001b[0m ):\n\u001b[1;32m---> 83\u001b[0m     res \u001b[39m=\u001b[39m \u001b[39mawait\u001b[39;00m client()\u001b[39m.\u001b[39mcall_api(\n\u001b[0;32m     84\u001b[0m         http_method\u001b[39m=\u001b[39mhttp_method, url\u001b[39m=\u001b[39murl, body\u001b[39m=\u001b[39mbody, params\u001b[39m=\u001b[39mparams\n\u001b[0;32m     85\u001b[0m     )\n\u001b[0;32m     86\u001b[0m     \u001b[39mif\u001b[39;00m \u001b[39mnot\u001b[39;00m \u001b[39misinstance\u001b[39m(res, \u001b[39mdict\u001b[39m):\n\u001b[0;32m     87\u001b[0m         \u001b[39mraise\u001b[39;00m ClassiqValueError(\u001b[39mf\u001b[39m\u001b[39m\"\u001b[39m\u001b[39mUnexpected returned value: \u001b[39m\u001b[39m{\u001b[39;00mres\u001b[39m}\u001b[39;00m\u001b[39m\"\u001b[39m)\n",
      "File \u001b[1;32mc:\\Users\\BenjaminAtadana\\anaconda3\\envs\\Qsum_venv\\Lib\\site-packages\\classiq\\_internals\\client.py:97\u001b[0m, in \u001b[0;36mtry_again_on_failure.<locals>.wrapper\u001b[1;34m(*args, **kwargs)\u001b[0m\n\u001b[0;32m     95\u001b[0m \u001b[39mfor\u001b[39;00m i \u001b[39min\u001b[39;00m \u001b[39mrange\u001b[39m(_RETRY_COUNT):\n\u001b[0;32m     96\u001b[0m     \u001b[39mtry\u001b[39;00m:\n\u001b[1;32m---> 97\u001b[0m         \u001b[39mreturn\u001b[39;00m \u001b[39mawait\u001b[39;00m func(\u001b[39m*\u001b[39margs, \u001b[39m*\u001b[39m\u001b[39m*\u001b[39mkwargs)\n\u001b[0;32m     98\u001b[0m     \u001b[39mexcept\u001b[39;00m ClassiqExpiredTokenError:\n\u001b[0;32m     99\u001b[0m         _logger\u001b[39m.\u001b[39minfo(\n\u001b[0;32m    100\u001b[0m             \u001b[39m\"\u001b[39m\u001b[39mToken expired when trying to \u001b[39m\u001b[39m%s\u001b[39;00m\u001b[39m with args \u001b[39m\u001b[39m%s\u001b[39;00m\u001b[39m \u001b[39m\u001b[39m%s\u001b[39;00m\u001b[39m\"\u001b[39m,\n\u001b[0;32m    101\u001b[0m             func,\n\u001b[1;32m   (...)\u001b[0m\n\u001b[0;32m    104\u001b[0m             exc_info\u001b[39m=\u001b[39m\u001b[39mTrue\u001b[39;00m,\n\u001b[0;32m    105\u001b[0m         )\n",
      "File \u001b[1;32mc:\\Users\\BenjaminAtadana\\anaconda3\\envs\\Qsum_venv\\Lib\\site-packages\\classiq\\_internals\\client.py:204\u001b[0m, in \u001b[0;36mClient.call_api\u001b[1;34m(self, http_method, url, body, params)\u001b[0m\n\u001b[0;32m    197\u001b[0m \u001b[39masync\u001b[39;00m \u001b[39mwith\u001b[39;00m \u001b[39mself\u001b[39m\u001b[39m.\u001b[39masync_client() \u001b[39mas\u001b[39;00m async_client:\n\u001b[0;32m    198\u001b[0m     response \u001b[39m=\u001b[39m \u001b[39mawait\u001b[39;00m async_client\u001b[39m.\u001b[39mrequest(\n\u001b[0;32m    199\u001b[0m         method\u001b[39m=\u001b[39mhttp_method,\n\u001b[0;32m    200\u001b[0m         url\u001b[39m=\u001b[39m\u001b[39mself\u001b[39m\u001b[39m.\u001b[39mmake_versioned_url(url),\n\u001b[0;32m    201\u001b[0m         json\u001b[39m=\u001b[39mbody,\n\u001b[0;32m    202\u001b[0m         params\u001b[39m=\u001b[39mparams,\n\u001b[0;32m    203\u001b[0m     )\n\u001b[1;32m--> 204\u001b[0m     \u001b[39mself\u001b[39;49m\u001b[39m.\u001b[39;49mhandle_response(response)\n\u001b[0;32m    205\u001b[0m     \u001b[39mreturn\u001b[39;00m response\u001b[39m.\u001b[39mjson()\n",
      "File \u001b[1;32mc:\\Users\\BenjaminAtadana\\anaconda3\\envs\\Qsum_venv\\Lib\\site-packages\\classiq\\_internals\\client.py:161\u001b[0m, in \u001b[0;36mClient.handle_response\u001b[1;34m(self, response)\u001b[0m\n\u001b[0;32m    159\u001b[0m \u001b[39mdef\u001b[39;00m \u001b[39mhandle_response\u001b[39m(\u001b[39mself\u001b[39m, response: httpx\u001b[39m.\u001b[39mResponse) \u001b[39m-\u001b[39m\u001b[39m>\u001b[39m \u001b[39mNone\u001b[39;00m:\n\u001b[0;32m    160\u001b[0m     \u001b[39mif\u001b[39;00m response\u001b[39m.\u001b[39mis_error:\n\u001b[1;32m--> 161\u001b[0m         \u001b[39mself\u001b[39;49m\u001b[39m.\u001b[39;49m_handle_error(response)\n\u001b[0;32m    162\u001b[0m     \u001b[39mself\u001b[39m\u001b[39m.\u001b[39m_handle_success(response)\n",
      "File \u001b[1;32mc:\\Users\\BenjaminAtadana\\anaconda3\\envs\\Qsum_venv\\Lib\\site-packages\\classiq\\_internals\\client.py:180\u001b[0m, in \u001b[0;36mClient._handle_error\u001b[1;34m(response)\u001b[0m\n\u001b[0;32m    178\u001b[0m \u001b[39mexcept\u001b[39;00m \u001b[39mException\u001b[39;00m:  \u001b[39m# nosec B110\u001b[39;00m\n\u001b[0;32m    179\u001b[0m     \u001b[39mpass\u001b[39;00m\n\u001b[1;32m--> 180\u001b[0m \u001b[39mraise\u001b[39;00m ClassiqAPIError(message)\n",
      "\u001b[1;31mClassiqAPIError\u001b[0m: Call to API failed with code 500: Error number 11193 occurred. Classical function not defined, and the quantum function requires execution parameters. Please define the classical function.\n\nError identifier: E5DA94D18-27B4-456C-9547-06B478875334.\nIf you need further assistance, please reach out on our Community Slack channel at: https://short.classiq.io/join-slack\nIf the error persists feel free to open a ticket at: https://short.classiq.io/support"
     ]
    }
   ],
   "source": [
    "qprog2 = synthesize(model2.get_model())\n",
    "results = execute(qprog2)"
   ]
  },
  {
   "cell_type": "code",
   "execution_count": null,
   "metadata": {},
   "outputs": [],
   "source": []
  }
 ],
 "metadata": {
  "kernelspec": {
   "display_name": "Qsum_venv",
   "language": "python",
   "name": "python3"
  },
  "language_info": {
   "codemirror_mode": {
    "name": "ipython",
    "version": 3
   },
   "file_extension": ".py",
   "mimetype": "text/x-python",
   "name": "python",
   "nbconvert_exporter": "python",
   "pygments_lexer": "ipython3",
   "version": "3.11.4"
  },
  "orig_nbformat": 4
 },
 "nbformat": 4,
 "nbformat_minor": 2
}
