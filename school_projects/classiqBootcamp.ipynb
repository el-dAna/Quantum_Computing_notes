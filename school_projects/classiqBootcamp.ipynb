{
 "cells": [
  {
   "cell_type": "code",
   "execution_count": 30,
   "metadata": {},
   "outputs": [],
   "source": [
    "import classiq\n",
    "\n",
    "from classiq.builtin_functions import StatePreparation\n",
    "from classiq import RegisterUserInput\n",
    "from classiq.builtin_functions import Adder\n",
    "from classiq import Model\n",
    "\n",
    "# for execution\n",
    "from classiq.execution import ExecutionPreferences, IBMBackendPreferences\n",
    "from classiq.synthesis import set_execution_preferences\n",
    "\n",
    "# for synthesis\n",
    "from classiq.model import Preferences\n",
    "from classiq.synthesis import set_preferences\n",
    "\n",
    "#for optimisation\n",
    "from classiq.model import Constraints\n",
    "from classiq.synthesis import set_constraints\n",
    "\n",
    "from classiq import synthesize\n",
    "\n",
    "# visualise\n",
    "from classiq import GeneratedCircuit\n",
    "from classiq import show\n",
    "\n",
    "# execution on device\n",
    "from classiq import execute\n",
    "from classiq.execution import ExecutionDetails\n"
   ]
  },
  {
   "cell_type": "code",
   "execution_count": 24,
   "metadata": {},
   "outputs": [
    {
     "name": "stdout",
     "output_type": "stream",
     "text": [
      "Your user code: VLDH-SBVL\n",
      "If a browser doesn't automatically open, please visit the url: https://auth.classiq.io/activate?user_code=VLDH-SBVL\n"
     ]
    }
   ],
   "source": [
    "classiq.authenticate()"
   ]
  },
  {
   "cell_type": "code",
   "execution_count": 5,
   "metadata": {},
   "outputs": [],
   "source": [
    "prob_a = [0.5, 0, 0, 0.5]\n",
    "prob_b = [0, 0.5, 0.5, 0]"
   ]
  },
  {
   "cell_type": "code",
   "execution_count": 6,
   "metadata": {},
   "outputs": [],
   "source": [
    "sp_a = StatePreparation(\n",
    "    probabilities=prob_a, error_metric={\"KL\": {\"upper_bound\": 0.01}}\n",
    ")\n",
    "\n",
    "sp_b = StatePreparation(\n",
    "    probabilities=prob_b, error_metric={\"KL\": {\"upper_bound\": 0.01}}\n",
    ")"
   ]
  },
  {
   "cell_type": "code",
   "execution_count": 7,
   "metadata": {},
   "outputs": [],
   "source": [
    "\n",
    "adder = Adder(\n",
    "    left_arg=RegisterUserInput(size=2),\n",
    "    right_arg=RegisterUserInput(size=2),\n",
    ")"
   ]
  },
  {
   "cell_type": "code",
   "execution_count": 8,
   "metadata": {},
   "outputs": [],
   "source": [
    "model = Model()\n"
   ]
  },
  {
   "cell_type": "code",
   "execution_count": 9,
   "metadata": {},
   "outputs": [],
   "source": [
    "a = model.StatePreparation(params=sp_a)\n",
    "b = model.StatePreparation(params=sp_b)"
   ]
  },
  {
   "cell_type": "code",
   "execution_count": 10,
   "metadata": {},
   "outputs": [],
   "source": [
    "adder_out = model.Adder(\n",
    "    params=adder, in_wires={\"left_arg\": a[\"OUT\"], \"right_arg\": b[\"OUT\"]}\n",
    ")"
   ]
  },
  {
   "cell_type": "code",
   "execution_count": 11,
   "metadata": {},
   "outputs": [],
   "source": [
    "model.set_outputs(\n",
    "    {\"a\": adder_out[\"left_arg\"], \"b\": adder_out[\"right_arg\"], \"sum\": adder_out[\"sum\"]}\n",
    ")\n",
    "# sum is added here to tell the model this is what we are interested in"
   ]
  },
  {
   "cell_type": "code",
   "execution_count": 12,
   "metadata": {},
   "outputs": [],
   "source": [
    "model.sample()"
   ]
  },
  {
   "cell_type": "code",
   "execution_count": 14,
   "metadata": {},
   "outputs": [],
   "source": [
    "backend_preferences = IBMBackendPreferences(\n",
    "    backend_service_provider=\"IBM Quantum\", backend_name=\"aer_simulator_statevector\"\n",
    ")\n",
    "\n",
    "serialized_model = model.get_model()\n",
    "\n",
    "serialized_model = set_execution_preferences(\n",
    "    serialized_model,\n",
    "    execution_preferences=ExecutionPreferences(backend_preferences=backend_preferences),\n",
    ")"
   ]
  },
  {
   "cell_type": "code",
   "execution_count": 16,
   "metadata": {},
   "outputs": [],
   "source": [
    "seed = 206755496\n",
    "preferences = Preferences(random_seed=seed)\n",
    "serialized_model = set_preferences(serialized_model, preferences=preferences)"
   ]
  },
  {
   "cell_type": "code",
   "execution_count": 18,
   "metadata": {},
   "outputs": [],
   "source": [
    "\n",
    "constraints = Constraints(optimization_parameter=\"depth\")\n",
    "serialized_model = set_constraints(serialized_model, constraints=constraints)"
   ]
  },
  {
   "cell_type": "code",
   "execution_count": null,
   "metadata": {},
   "outputs": [],
   "source": [
    "qmod = model.get_model()\n",
    "print(qmod)"
   ]
  },
  {
   "cell_type": "code",
   "execution_count": 25,
   "metadata": {},
   "outputs": [
    {
     "name": "stdout",
     "output_type": "stream",
     "text": [
      "{'a': (0, 1), 'b': (2, 3), 'sum': (4, 5, 6)}\n"
     ]
    }
   ],
   "source": [
    "\n",
    "qprog = synthesize(serialized_model)\n",
    "\n",
    "circuit = GeneratedCircuit.from_qprog(qprog)\n",
    "\n",
    "print(circuit.data.qubit_mapping.logical_outputs)"
   ]
  },
  {
   "cell_type": "code",
   "execution_count": 27,
   "metadata": {},
   "outputs": [
    {
     "name": "stdout",
     "output_type": "stream",
     "text": [
      "Opening: https://platform.classiq.io/circuit/bf95af1c-0c59-4b49-90e1-c6fe11dff745?version=0.29.2\n"
     ]
    }
   ],
   "source": [
    "\n",
    "show(qprog)\n",
    "\n",
    "# circuit.save_results(\"my_arithmetic_circuit.json\")"
   ]
  },
  {
   "cell_type": "code",
   "execution_count": 31,
   "metadata": {},
   "outputs": [
    {
     "name": "stdout",
     "output_type": "stream",
     "text": [
      "{'1011011': 514, '0010100': 469, '0101000': 556, '1000111': 509}\n"
     ]
    }
   ],
   "source": [
    "results_raw = execute(qprog).result()\n",
    "results = results_raw[0].value\n",
    "print(results.counts)"
   ]
  },
  {
   "cell_type": "code",
   "execution_count": 32,
   "metadata": {},
   "outputs": [
    {
     "name": "stdout",
     "output_type": "stream",
     "text": [
      "{('11', '01', '101'): 514, ('00', '10', '100'): 469, ('00', '01', '010'): 556, ('11', '10', '001'): 509}\n"
     ]
    }
   ],
   "source": [
    "output_results = results.counts_of_multiple_outputs([\"a\", \"b\", \"sum\"])\n",
    "print(output_results)"
   ]
  },
  {
   "cell_type": "code",
   "execution_count": 33,
   "metadata": {},
   "outputs": [
    {
     "name": "stdout",
     "output_type": "stream",
     "text": [
      "3 + 2 = 5\n",
      "0 + 1 = 1\n",
      "0 + 2 = 2\n",
      "3 + 1 = 4\n"
     ]
    }
   ],
   "source": [
    "def str2num(str):\n",
    "    return int(str[::-1], 2)\n",
    "\n",
    "for tupple in output_results.keys():\n",
    "    print(str2num(tupple[0]), \"+\", str2num(tupple[1]), \"=\", str2num(tupple[2]))"
   ]
  },
  {
   "cell_type": "code",
   "execution_count": 34,
   "metadata": {},
   "outputs": [
    {
     "name": "stdout",
     "output_type": "stream",
     "text": [
      "circuit width:  8  circuit depth:  27\n"
     ]
    }
   ],
   "source": [
    "print(\n",
    "    \"circuit width: \",\n",
    "    circuit.data.width,\n",
    "    \" circuit depth: \",\n",
    "    circuit.transpiled_circuit.depth,\n",
    ")"
   ]
  },
  {
   "cell_type": "code",
   "execution_count": 35,
   "metadata": {},
   "outputs": [],
   "source": [
    "# optimising for widht\n",
    "constraints = Constraints(optimization_parameter=\"width\")\n",
    "serialized_model_optimized_for_width = set_constraints(\n",
    "    serialized_model, constraints=constraints\n",
    ")\n",
    "qprog_optimized_for_width = synthesize(serialized_model_optimized_for_width)"
   ]
  },
  {
   "cell_type": "code",
   "execution_count": 36,
   "metadata": {},
   "outputs": [
    {
     "name": "stdout",
     "output_type": "stream",
     "text": [
      "circuit width:  7  circuit depth:  31\n"
     ]
    }
   ],
   "source": [
    "circuit_optimized_for_width = GeneratedCircuit.from_qprog(qprog_optimized_for_width)\n",
    "\n",
    "print(\n",
    "    \"circuit width: \",\n",
    "    circuit_optimized_for_width.data.width,\n",
    "    \" circuit depth: \",\n",
    "    circuit_optimized_for_width.transpiled_circuit.depth,\n",
    ")"
   ]
  },
  {
   "cell_type": "code",
   "execution_count": 61,
   "metadata": {},
   "outputs": [],
   "source": [
    "# \n",
    "from classiq.builtin_functions import RYGate\n",
    "import numpy as np\n",
    "from classiq.applications.chemistry import PauliOperator\n",
    "from classiq.execution import OptimizerType"
   ]
  },
  {
   "cell_type": "code",
   "execution_count": 69,
   "metadata": {},
   "outputs": [],
   "source": [
    "model2 = Model()\n",
    "ry_params = RYGate(theta='x') # defining building block\n",
    "model2.RYGate(params = ry_params) # wiring building block into model\n",
    "\n",
    "model3 = Model()\n",
    "model3.RYGate(params = ry_params) # wiring building block into model\n",
    "\n",
    "#defining sample execution scheme\n",
    "execution_params = {'x': np.pi/7}\n",
    "model2.sample(execution_params=execution_params)"
   ]
  },
  {
   "cell_type": "code",
   "execution_count": 46,
   "metadata": {},
   "outputs": [],
   "source": [
    "qprog2 = synthesize(model2.get_model())\n",
    "results = execute(qprog2)"
   ]
  },
  {
   "cell_type": "code",
   "execution_count": 102,
   "metadata": {},
   "outputs": [
    {
     "name": "stdout",
     "output_type": "stream",
     "text": [
      "[[ 0.5        -0.33333333]\n",
      " [-0.33333333  0.5       ]]\n"
     ]
    }
   ],
   "source": [
    "hamiltonian_to_minimise = PauliOperator(pauli_list=[(\"Z\",1), (\"X\", 0.1)])\n",
    "\n",
    "#print(hamiltonian_to_minimise.to_matrix())"
   ]
  },
  {
   "cell_type": "code",
   "execution_count": 71,
   "metadata": {},
   "outputs": [],
   "source": [
    "model3.vqe(hamiltonian=hamiltonian_to_minimise,\n",
    "           max_iteration = 50,\n",
    "           maximize = False,\n",
    "           optimizer = OptimizerType.COBYLA)"
   ]
  },
  {
   "cell_type": "code",
   "execution_count": 72,
   "metadata": {},
   "outputs": [],
   "source": [
    "qprog3 = synthesize(model3.get_model())\n",
    "results3 = execute(qprog3)"
   ]
  },
  {
   "cell_type": "code",
   "execution_count": 99,
   "metadata": {},
   "outputs": [
    {
     "name": "stdout",
     "output_type": "stream",
     "text": [
      "-1.01103515625\n",
      "{'x': 3.2901262602128862}\n"
     ]
    }
   ],
   "source": [
    "# print(results3[0].value.energy)\n",
    "print(results3.result()[0].value.energy)\n",
    "print(results3.result()[0].value.optimal_parameters)"
   ]
  },
  {
   "cell_type": "code",
   "execution_count": 118,
   "metadata": {},
   "outputs": [],
   "source": [
    "#hamiltonian_to_minimise2 = np.array([[1/2,-1/3],[-1/3,1/2]])\n",
    "hamiltonian_to_minimise2 = PauliOperator(pauli_list=[(\"I\",1/2), (\"X\", 1/3)])\n",
    "\n",
    "model4 = Model()\n",
    "ry_params = RYGate(theta='x') # defining building block\n",
    "model4.RYGate(params = ry_params) # wiring building block into model\n",
    "\n",
    "model4.vqe(hamiltonian=hamiltonian_to_minimise2,\n",
    "           max_iteration = 50,\n",
    "           maximize = False,\n",
    "           optimizer = OptimizerType.SPSA)\n",
    "\n",
    "qprog4 = synthesize(model4.get_model())\n",
    "results4 = execute(qprog4).result()\n",
    "\n"
   ]
  },
  {
   "cell_type": "code",
   "execution_count": 119,
   "metadata": {},
   "outputs": [
    {
     "name": "stdout",
     "output_type": "stream",
     "text": [
      "0.16666666666666669\n",
      "{'x': 4.713530446124486}\n",
      "{\"vendor_format_result\": {}, \"counts\": {\"1\": 1030, \"0\": 1018}, \"counts_lsb_right\": true, \"parsed_states\": {\"1\": {}, \"0\": {}}, \"histogram\": null, \"output_qubits_map\": {}, \"state_vector\": {\"0\": 0.7060702204809377, \"1\": 0.7081418246015413}, \"parsed_state_vector_states\": {\"0\": {}, \"1\": {}}, \"physical_qubits_map\": {}, \"num_shots\": 2048}\n"
     ]
    }
   ],
   "source": [
    "print(results4[0].value.energy)\n",
    "print(results4[0].value.optimal_parameters)\n",
    "print(results4[0].value.optimized_circuit_sample_results.json())"
   ]
  },
  {
   "cell_type": "code",
   "execution_count": 121,
   "metadata": {},
   "outputs": [],
   "source": [
    "w, v = np.linalg.eig(hamiltonian_to_minimise2.to_matrix())"
   ]
  },
  {
   "cell_type": "code",
   "execution_count": 122,
   "metadata": {},
   "outputs": [
    {
     "data": {
      "text/plain": [
       "array([0.83333333+0.j, 0.16666667+0.j])"
      ]
     },
     "execution_count": 122,
     "metadata": {},
     "output_type": "execute_result"
    }
   ],
   "source": [
    "w"
   ]
  },
  {
   "cell_type": "code",
   "execution_count": null,
   "metadata": {},
   "outputs": [],
   "source": []
  }
 ],
 "metadata": {
  "kernelspec": {
   "display_name": "Qsum_venv",
   "language": "python",
   "name": "python3"
  },
  "language_info": {
   "codemirror_mode": {
    "name": "ipython",
    "version": 3
   },
   "file_extension": ".py",
   "mimetype": "text/x-python",
   "name": "python",
   "nbconvert_exporter": "python",
   "pygments_lexer": "ipython3",
   "version": "3.11.4"
  },
  "orig_nbformat": 4
 },
 "nbformat": 4,
 "nbformat_minor": 2
}
