{
 "cells": [
  {
   "cell_type": "code",
   "execution_count": 1,
   "metadata": {},
   "outputs": [],
   "source": [
    "import classiq\n",
    "\n",
    "from classiq.builtin_functions import StatePreparation\n",
    "from classiq import RegisterUserInput\n",
    "from classiq.builtin_functions import Adder\n",
    "from classiq import Model\n",
    "\n",
    "# for execution\n",
    "from classiq.execution import ExecutionPreferences, IBMBackendPreferences\n",
    "from classiq.synthesis import set_execution_preferences\n",
    "\n",
    "# for synthesis\n",
    "from classiq.model import Preferences\n",
    "from classiq.synthesis import set_preferences\n",
    "\n",
    "#for optimisation\n",
    "from classiq.model import Constraints\n",
    "from classiq.synthesis import set_constraints\n",
    "\n",
    "from classiq import synthesize\n",
    "\n",
    "# visualise\n",
    "from classiq import GeneratedCircuit\n",
    "from classiq import show\n",
    "\n",
    "# execution on device\n",
    "from classiq import execute\n",
    "from classiq.execution import ExecutionDetails\n"
   ]
  },
  {
   "cell_type": "code",
   "execution_count": 2,
   "metadata": {},
   "outputs": [
    {
     "name": "stderr",
     "output_type": "stream",
     "text": [
      "c:\\Users\\BenjaminAtadana\\anaconda3\\envs\\Qsum_venv\\Lib\\site-packages\\classiq\\_internals\\authentication\\token_manager.py:82: UserWarning: Device is already registered.\n",
      "Generating a new refresh token should only be done if the current refresh token is compromised.\n",
      "To do so, set the overwrite parameter to true\n",
      "  warnings.warn(\n"
     ]
    }
   ],
   "source": [
    "classiq.authenticate()"
   ]
  },
  {
   "cell_type": "code",
   "execution_count": 7,
   "metadata": {},
   "outputs": [],
   "source": [
    "prob_a = [1, 0, 0, 0]\n",
    "prob_b = [0, 0, 0, 1]"
   ]
  },
  {
   "cell_type": "code",
   "execution_count": 8,
   "metadata": {},
   "outputs": [],
   "source": [
    "sp_a = StatePreparation(\n",
    "    probabilities=prob_a, error_metric={\"KL\": {\"upper_bound\": 0.01}}\n",
    ")\n",
    "\n",
    "sp_b = StatePreparation(\n",
    "    probabilities=prob_b, error_metric={\"KL\": {\"upper_bound\": 0.01}}\n",
    ")"
   ]
  },
  {
   "cell_type": "code",
   "execution_count": 9,
   "metadata": {},
   "outputs": [],
   "source": [
    "\n",
    "adder = Adder(\n",
    "    left_arg=RegisterUserInput(size=7),\n",
    "    right_arg=RegisterUserInput(size=6),\n",
    ")"
   ]
  },
  {
   "cell_type": "code",
   "execution_count": 10,
   "metadata": {},
   "outputs": [],
   "source": [
    "model = Model()\n"
   ]
  },
  {
   "cell_type": "code",
   "execution_count": 11,
   "metadata": {},
   "outputs": [],
   "source": [
    "a = model.StatePreparation(params=sp_a)\n",
    "b = model.StatePreparation(params=sp_b)"
   ]
  },
  {
   "cell_type": "code",
   "execution_count": 12,
   "metadata": {},
   "outputs": [
    {
     "ename": "ClassiqWiringError",
     "evalue": "Incorrect size of input QReg: expected 7, actual 2\nIf you need further assistance, please reach out on our Community Slack channel at: https://short.classiq.io/join-slack\nIf the error persists feel free to open a ticket at: https://short.classiq.io/support",
     "output_type": "error",
     "traceback": [
      "\u001b[1;31m---------------------------------------------------------------------------\u001b[0m",
      "\u001b[1;31mClassiqWiringError\u001b[0m                        Traceback (most recent call last)",
      "\u001b[1;32mc:\\Users\\BenjaminAtadana\\YandexDisk\\MY_FILES\\School_Side_Works\\Quantum_Computing_notes\\school_projects\\classiqBootcamp.ipynb Cell 8\u001b[0m line \u001b[0;36m1\n\u001b[1;32m----> <a href='vscode-notebook-cell:/c%3A/Users/BenjaminAtadana/YandexDisk/MY_FILES/School_Side_Works/Quantum_Computing_notes/school_projects/classiqBootcamp.ipynb#X10sZmlsZQ%3D%3D?line=0'>1</a>\u001b[0m adder_out \u001b[39m=\u001b[39m model\u001b[39m.\u001b[39;49mAdder(\n\u001b[0;32m      <a href='vscode-notebook-cell:/c%3A/Users/BenjaminAtadana/YandexDisk/MY_FILES/School_Side_Works/Quantum_Computing_notes/school_projects/classiqBootcamp.ipynb#X10sZmlsZQ%3D%3D?line=1'>2</a>\u001b[0m     params\u001b[39m=\u001b[39;49madder, in_wires\u001b[39m=\u001b[39;49m{\u001b[39m\"\u001b[39;49m\u001b[39mleft_arg\u001b[39;49m\u001b[39m\"\u001b[39;49m: a[\u001b[39m\"\u001b[39;49m\u001b[39mOUT\u001b[39;49m\u001b[39m\"\u001b[39;49m], \u001b[39m\"\u001b[39;49m\u001b[39mright_arg\u001b[39;49m\u001b[39m\"\u001b[39;49m: b[\u001b[39m\"\u001b[39;49m\u001b[39mOUT\u001b[39;49m\u001b[39m\"\u001b[39;49m]}\n\u001b[0;32m      <a href='vscode-notebook-cell:/c%3A/Users/BenjaminAtadana/YandexDisk/MY_FILES/School_Side_Works/Quantum_Computing_notes/school_projects/classiqBootcamp.ipynb#X10sZmlsZQ%3D%3D?line=2'>3</a>\u001b[0m )\n",
      "File \u001b[1;32mc:\\Users\\BenjaminAtadana\\anaconda3\\envs\\Qsum_venv\\Lib\\site-packages\\classiq\\model\\function_handler.py:297\u001b[0m, in \u001b[0;36mFunctionHandler._add_function_call\u001b[1;34m(self, function, params, control_states, in_wires, out_wires, is_inverse, release_by_inverse, should_control, power, call_name, strict_zero_ios, parameters_dict)\u001b[0m\n\u001b[0;32m    284\u001b[0m call \u001b[39m=\u001b[39m SynthesisQuantumFunctionCall(\n\u001b[0;32m    285\u001b[0m     function\u001b[39m=\u001b[39mfunction,\n\u001b[0;32m    286\u001b[0m     function_params\u001b[39m=\u001b[39mparams,\n\u001b[1;32m   (...)\u001b[0m\n\u001b[0;32m    293\u001b[0m     name\u001b[39m=\u001b[39mcall_name,\n\u001b[0;32m    294\u001b[0m )\n\u001b[0;32m    296\u001b[0m \u001b[39mif\u001b[39;00m in_wires \u001b[39mis\u001b[39;00m \u001b[39mnot\u001b[39;00m \u001b[39mNone\u001b[39;00m:\n\u001b[1;32m--> 297\u001b[0m     \u001b[39mself\u001b[39;49m\u001b[39m.\u001b[39;49m_connect_in_qregs(call\u001b[39m=\u001b[39;49mcall, in_wires\u001b[39m=\u001b[39;49min_wires)\n\u001b[0;32m    299\u001b[0m \u001b[39mself\u001b[39m\u001b[39m.\u001b[39m_body\u001b[39m.\u001b[39mappend(call)\n\u001b[0;32m    301\u001b[0m \u001b[39mreturn\u001b[39;00m \u001b[39mself\u001b[39m\u001b[39m.\u001b[39m_connect_out_qregs(call\u001b[39m=\u001b[39mcall, out_wires\u001b[39m=\u001b[39mout_wires \u001b[39mor\u001b[39;00m {})\n",
      "File \u001b[1;32mc:\\Users\\BenjaminAtadana\\anaconda3\\envs\\Qsum_venv\\Lib\\site-packages\\classiq\\model\\function_handler.py:309\u001b[0m, in \u001b[0;36mFunctionHandler._connect_in_qregs\u001b[1;34m(self, call, in_wires)\u001b[0m\n\u001b[0;32m    303\u001b[0m \u001b[39mdef\u001b[39;00m \u001b[39m_connect_in_qregs\u001b[39m(\n\u001b[0;32m    304\u001b[0m     \u001b[39mself\u001b[39m,\n\u001b[0;32m    305\u001b[0m     call: SynthesisQuantumFunctionCall,\n\u001b[0;32m    306\u001b[0m     in_wires: SupportedInputArgs,\n\u001b[0;32m    307\u001b[0m ) \u001b[39m-\u001b[39m\u001b[39m>\u001b[39m \u001b[39mNone\u001b[39;00m:\n\u001b[0;32m    308\u001b[0m     \u001b[39mif\u001b[39;00m \u001b[39misinstance\u001b[39m(in_wires, \u001b[39mdict\u001b[39m):\n\u001b[1;32m--> 309\u001b[0m         \u001b[39mself\u001b[39;49m\u001b[39m.\u001b[39;49m_connect_named_in_qregs(call\u001b[39m=\u001b[39;49mcall, in_wires\u001b[39m=\u001b[39;49min_wires)\n\u001b[0;32m    310\u001b[0m     \u001b[39melif\u001b[39;00m \u001b[39misinstance\u001b[39m(in_wires, QReg):\n\u001b[0;32m    311\u001b[0m         \u001b[39mself\u001b[39m\u001b[39m.\u001b[39m_connect_unnamed_in_qregs(call\u001b[39m=\u001b[39mcall, in_wires\u001b[39m=\u001b[39m[in_wires])\n",
      "File \u001b[1;32mc:\\Users\\BenjaminAtadana\\anaconda3\\envs\\Qsum_venv\\Lib\\site-packages\\classiq\\model\\function_handler.py:339\u001b[0m, in \u001b[0;36mFunctionHandler._connect_named_in_qregs\u001b[1;34m(self, call, in_wires)\u001b[0m\n\u001b[0;32m    337\u001b[0m pin_name, pin_indices \u001b[39m=\u001b[39m \u001b[39mself\u001b[39m\u001b[39m.\u001b[39m_get_pin_name_and_indices(input_name, call)\n\u001b[0;32m    338\u001b[0m \u001b[39mif\u001b[39;00m \u001b[39mlen\u001b[39m(in_qreg) \u001b[39m!=\u001b[39m \u001b[39mlen\u001b[39m(pin_indices):\n\u001b[1;32m--> 339\u001b[0m     \u001b[39mraise\u001b[39;00m ClassiqWiringError(\n\u001b[0;32m    340\u001b[0m         \u001b[39mf\u001b[39m\u001b[39m\"\u001b[39m\u001b[39mIncorrect size of input QReg: expected \u001b[39m\u001b[39m{\u001b[39;00m\u001b[39mlen\u001b[39m(pin_indices)\u001b[39m}\u001b[39;00m\u001b[39m, actual \u001b[39m\u001b[39m{\u001b[39;00m\u001b[39mlen\u001b[39m(in_qreg)\u001b[39m}\u001b[39;00m\u001b[39m\"\u001b[39m\n\u001b[0;32m    341\u001b[0m     )\n\u001b[0;32m    342\u001b[0m \u001b[39mself\u001b[39m\u001b[39m.\u001b[39m_logic_flow_builder\u001b[39m.\u001b[39mconnect_qreg_to_func_call(\n\u001b[0;32m    343\u001b[0m     in_qreg, pin_name, call, pin_indices\n\u001b[0;32m    344\u001b[0m )\n",
      "\u001b[1;31mClassiqWiringError\u001b[0m: Incorrect size of input QReg: expected 7, actual 2\nIf you need further assistance, please reach out on our Community Slack channel at: https://short.classiq.io/join-slack\nIf the error persists feel free to open a ticket at: https://short.classiq.io/support"
     ]
    }
   ],
   "source": [
    "adder_out = model.Adder(\n",
    "    params=adder, in_wires={\"left_arg\": a[\"OUT\"], \"right_arg\": b[\"OUT\"]}\n",
    ")"
   ]
  },
  {
   "cell_type": "code",
   "execution_count": 11,
   "metadata": {},
   "outputs": [],
   "source": [
    "model.set_outputs(\n",
    "    {\"a\": adder_out[\"left_arg\"], \"b\": adder_out[\"right_arg\"], \"sum\": adder_out[\"sum\"]}\n",
    ")\n",
    "# sum is added here to tell the model this is what we are interested in"
   ]
  },
  {
   "cell_type": "code",
   "execution_count": 12,
   "metadata": {},
   "outputs": [],
   "source": [
    "model.sample()"
   ]
  },
  {
   "cell_type": "code",
   "execution_count": 14,
   "metadata": {},
   "outputs": [],
   "source": [
    "backend_preferences = IBMBackendPreferences(\n",
    "    backend_service_provider=\"IBM Quantum\", backend_name=\"aer_simulator_statevector\"\n",
    ")\n",
    "\n",
    "serialized_model = model.get_model()\n",
    "\n",
    "serialized_model = set_execution_preferences(\n",
    "    serialized_model,\n",
    "    execution_preferences=ExecutionPreferences(backend_preferences=backend_preferences),\n",
    ")"
   ]
  },
  {
   "cell_type": "code",
   "execution_count": 16,
   "metadata": {},
   "outputs": [],
   "source": [
    "seed = 206755496\n",
    "preferences = Preferences(random_seed=seed)\n",
    "serialized_model = set_preferences(serialized_model, preferences=preferences)"
   ]
  },
  {
   "cell_type": "code",
   "execution_count": 18,
   "metadata": {},
   "outputs": [],
   "source": [
    "\n",
    "constraints = Constraints(optimization_parameter=\"depth\")\n",
    "serialized_model = set_constraints(serialized_model, constraints=constraints)"
   ]
  },
  {
   "cell_type": "code",
   "execution_count": null,
   "metadata": {},
   "outputs": [],
   "source": [
    "qmod = model.get_model()\n",
    "print(qmod)"
   ]
  },
  {
   "cell_type": "code",
   "execution_count": 25,
   "metadata": {},
   "outputs": [
    {
     "name": "stdout",
     "output_type": "stream",
     "text": [
      "{'a': (0, 1), 'b': (2, 3), 'sum': (4, 5, 6)}\n"
     ]
    }
   ],
   "source": [
    "\n",
    "qprog = synthesize(serialized_model)\n",
    "\n",
    "circuit = GeneratedCircuit.from_qprog(qprog)\n",
    "\n",
    "print(circuit.data.qubit_mapping.logical_outputs)"
   ]
  },
  {
   "cell_type": "code",
   "execution_count": 27,
   "metadata": {},
   "outputs": [
    {
     "name": "stdout",
     "output_type": "stream",
     "text": [
      "Opening: https://platform.classiq.io/circuit/bf95af1c-0c59-4b49-90e1-c6fe11dff745?version=0.29.2\n"
     ]
    }
   ],
   "source": [
    "\n",
    "show(qprog)\n",
    "\n",
    "# circuit.save_results(\"my_arithmetic_circuit.json\")"
   ]
  },
  {
   "cell_type": "code",
   "execution_count": 31,
   "metadata": {},
   "outputs": [
    {
     "name": "stdout",
     "output_type": "stream",
     "text": [
      "{'1011011': 514, '0010100': 469, '0101000': 556, '1000111': 509}\n"
     ]
    }
   ],
   "source": [
    "results_raw = execute(qprog).result()\n",
    "results = results_raw[0].value\n",
    "print(results.counts)"
   ]
  },
  {
   "cell_type": "code",
   "execution_count": 32,
   "metadata": {},
   "outputs": [
    {
     "name": "stdout",
     "output_type": "stream",
     "text": [
      "{('11', '01', '101'): 514, ('00', '10', '100'): 469, ('00', '01', '010'): 556, ('11', '10', '001'): 509}\n"
     ]
    }
   ],
   "source": [
    "output_results = results.counts_of_multiple_outputs([\"a\", \"b\", \"sum\"])\n",
    "print(output_results)"
   ]
  },
  {
   "cell_type": "code",
   "execution_count": 33,
   "metadata": {},
   "outputs": [
    {
     "name": "stdout",
     "output_type": "stream",
     "text": [
      "3 + 2 = 5\n",
      "0 + 1 = 1\n",
      "0 + 2 = 2\n",
      "3 + 1 = 4\n"
     ]
    }
   ],
   "source": [
    "def str2num(str):\n",
    "    return int(str[::-1], 2)\n",
    "\n",
    "for tupple in output_results.keys():\n",
    "    print(str2num(tupple[0]), \"+\", str2num(tupple[1]), \"=\", str2num(tupple[2]))"
   ]
  },
  {
   "cell_type": "code",
   "execution_count": 34,
   "metadata": {},
   "outputs": [
    {
     "name": "stdout",
     "output_type": "stream",
     "text": [
      "circuit width:  8  circuit depth:  27\n"
     ]
    }
   ],
   "source": [
    "print(\n",
    "    \"circuit width: \",\n",
    "    circuit.data.width,\n",
    "    \" circuit depth: \",\n",
    "    circuit.transpiled_circuit.depth,\n",
    ")"
   ]
  },
  {
   "cell_type": "code",
   "execution_count": 35,
   "metadata": {},
   "outputs": [],
   "source": [
    "# optimising for widht\n",
    "constraints = Constraints(optimization_parameter=\"width\")\n",
    "serialized_model_optimized_for_width = set_constraints(\n",
    "    serialized_model, constraints=constraints\n",
    ")\n",
    "qprog_optimized_for_width = synthesize(serialized_model_optimized_for_width)"
   ]
  },
  {
   "cell_type": "code",
   "execution_count": 36,
   "metadata": {},
   "outputs": [
    {
     "name": "stdout",
     "output_type": "stream",
     "text": [
      "circuit width:  7  circuit depth:  31\n"
     ]
    }
   ],
   "source": [
    "circuit_optimized_for_width = GeneratedCircuit.from_qprog(qprog_optimized_for_width)\n",
    "\n",
    "print(\n",
    "    \"circuit width: \",\n",
    "    circuit_optimized_for_width.data.width,\n",
    "    \" circuit depth: \",\n",
    "    circuit_optimized_for_width.transpiled_circuit.depth,\n",
    ")"
   ]
  },
  {
   "cell_type": "code",
   "execution_count": 61,
   "metadata": {},
   "outputs": [],
   "source": [
    "# \n",
    "from classiq.builtin_functions import RYGate\n",
    "import numpy as np\n",
    "from classiq.applications.chemistry import PauliOperator\n",
    "from classiq.execution import OptimizerType"
   ]
  },
  {
   "cell_type": "code",
   "execution_count": 69,
   "metadata": {},
   "outputs": [],
   "source": [
    "model2 = Model()\n",
    "ry_params = RYGate(theta='x') # defining building block\n",
    "model2.RYGate(params = ry_params) # wiring building block into model\n",
    "\n",
    "model3 = Model()\n",
    "model3.RYGate(params = ry_params) # wiring building block into model\n",
    "\n",
    "#defining sample execution scheme\n",
    "execution_params = {'x': np.pi/7}\n",
    "model2.sample(execution_params=execution_params)"
   ]
  },
  {
   "cell_type": "code",
   "execution_count": 46,
   "metadata": {},
   "outputs": [],
   "source": [
    "qprog2 = synthesize(model2.get_model())\n",
    "results = execute(qprog2)"
   ]
  },
  {
   "cell_type": "code",
   "execution_count": 102,
   "metadata": {},
   "outputs": [
    {
     "name": "stdout",
     "output_type": "stream",
     "text": [
      "[[ 0.5        -0.33333333]\n",
      " [-0.33333333  0.5       ]]\n"
     ]
    }
   ],
   "source": [
    "hamiltonian_to_minimise = PauliOperator(pauli_list=[(\"Z\",1), (\"X\", 0.1)])\n",
    "\n",
    "#print(hamiltonian_to_minimise.to_matrix())"
   ]
  },
  {
   "cell_type": "code",
   "execution_count": 71,
   "metadata": {},
   "outputs": [],
   "source": [
    "model3.vqe(hamiltonian=hamiltonian_to_minimise,\n",
    "           max_iteration = 50,\n",
    "           maximize = False,\n",
    "           optimizer = OptimizerType.COBYLA)"
   ]
  },
  {
   "cell_type": "code",
   "execution_count": 72,
   "metadata": {},
   "outputs": [],
   "source": [
    "qprog3 = synthesize(model3.get_model())\n",
    "results3 = execute(qprog3)"
   ]
  },
  {
   "cell_type": "code",
   "execution_count": 99,
   "metadata": {},
   "outputs": [
    {
     "name": "stdout",
     "output_type": "stream",
     "text": [
      "-1.01103515625\n",
      "{'x': 3.2901262602128862}\n"
     ]
    }
   ],
   "source": [
    "# print(results3[0].value.energy)\n",
    "print(results3.result()[0].value.energy)\n",
    "print(results3.result()[0].value.optimal_parameters)"
   ]
  },
  {
   "cell_type": "code",
   "execution_count": 118,
   "metadata": {},
   "outputs": [],
   "source": [
    "#hamiltonian_to_minimise2 = np.array([[1/2,-1/3],[-1/3,1/2]])\n",
    "hamiltonian_to_minimise2 = PauliOperator(pauli_list=[(\"I\",1/2), (\"X\", 1/3)])\n",
    "\n",
    "model4 = Model()\n",
    "ry_params = RYGate(theta='x') # defining building block\n",
    "model4.RYGate(params = ry_params) # wiring building block into model\n",
    "\n",
    "model4.vqe(hamiltonian=hamiltonian_to_minimise2,\n",
    "           max_iteration = 50,\n",
    "           maximize = False,\n",
    "           optimizer = OptimizerType.SPSA)\n",
    "\n",
    "qprog4 = synthesize(model4.get_model())\n",
    "results4 = execute(qprog4).result()\n",
    "\n"
   ]
  },
  {
   "cell_type": "code",
   "execution_count": 119,
   "metadata": {},
   "outputs": [
    {
     "name": "stdout",
     "output_type": "stream",
     "text": [
      "0.16666666666666669\n",
      "{'x': 4.713530446124486}\n",
      "{\"vendor_format_result\": {}, \"counts\": {\"1\": 1030, \"0\": 1018}, \"counts_lsb_right\": true, \"parsed_states\": {\"1\": {}, \"0\": {}}, \"histogram\": null, \"output_qubits_map\": {}, \"state_vector\": {\"0\": 0.7060702204809377, \"1\": 0.7081418246015413}, \"parsed_state_vector_states\": {\"0\": {}, \"1\": {}}, \"physical_qubits_map\": {}, \"num_shots\": 2048}\n"
     ]
    }
   ],
   "source": [
    "print(results4[0].value.energy)\n",
    "print(results4[0].value.optimal_parameters)\n",
    "print(results4[0].value.optimized_circuit_sample_results.json())"
   ]
  },
  {
   "cell_type": "code",
   "execution_count": 121,
   "metadata": {},
   "outputs": [],
   "source": [
    "w, v = np.linalg.eig(hamiltonian_to_minimise2.to_matrix())"
   ]
  },
  {
   "cell_type": "code",
   "execution_count": 122,
   "metadata": {},
   "outputs": [
    {
     "data": {
      "text/plain": [
       "array([0.83333333+0.j, 0.16666667+0.j])"
      ]
     },
     "execution_count": 122,
     "metadata": {},
     "output_type": "execute_result"
    }
   ],
   "source": [
    "w"
   ]
  },
  {
   "cell_type": "code",
   "execution_count": null,
   "metadata": {},
   "outputs": [],
   "source": []
  }
 ],
 "metadata": {
  "kernelspec": {
   "display_name": "Qsum_venv",
   "language": "python",
   "name": "python3"
  },
  "language_info": {
   "codemirror_mode": {
    "name": "ipython",
    "version": 3
   },
   "file_extension": ".py",
   "mimetype": "text/x-python",
   "name": "python",
   "nbconvert_exporter": "python",
   "pygments_lexer": "ipython3",
   "version": "3.11.4"
  },
  "orig_nbformat": 4
 },
 "nbformat": 4,
 "nbformat_minor": 2
}
