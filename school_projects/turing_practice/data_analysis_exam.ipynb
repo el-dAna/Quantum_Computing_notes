{
 "cells": [
  {
   "cell_type": "code",
   "execution_count": 1,
   "metadata": {},
   "outputs": [],
   "source": [
    "import pandas as pd \n",
    "import os\n",
    "%matplotlib inline\n",
    "import matplotlib.pyplot as plt\n",
    "import numpy as np"
   ]
  },
  {
   "cell_type": "code",
   "execution_count": 152,
   "metadata": {},
   "outputs": [
    {
     "name": "stderr",
     "output_type": "stream",
     "text": [
      "C:\\Users\\BenjaminAtadana\\AppData\\Local\\Temp\\ipykernel_19604\\1599784675.py:23: UserWarning: Boolean Series key will be reindexed to match DataFrame index.\n",
      "  covid_world = covid[world_filter] #cummulated data for the world, eg, total new_cases on a date recorded in all the countries\n"
     ]
    }
   ],
   "source": [
    "alco = pd.read_csv(\"./data/cardio_alco.csv\")\n",
    "base1 = pd.read_csv(\"./data/cardio_base.csv\", index_col = 'id')\n",
    "covid1 = pd.read_csv(\"./data/covid_data.csv\")\n",
    "# covid_cols = 'location', 'date', 'new_cases', 'new_deaths', 'population','aged_65_older_percent', 'gdp_per_capita',\n",
    "#             'hospital_beds_per_thousand'\n",
    "\n",
    "\n",
    "\n",
    "alco[[\"id\", \"alco\"]] = alco['id;alco'].str.split(\";\", expand = True)\n",
    "alco.drop(columns = ['id;alco'], inplace = True)\n",
    "alco['id'] = alco['id'].astype(int)\n",
    "alco['alco'] = alco['alco'].astype(int)\n",
    "alco.set_index('id', inplace=True)\n",
    "\n",
    "base = base1.join(alco)\n",
    "base['alco'].fillna('None', inplace=True)\n",
    "base['age'] = base['age']/365\n",
    "# base['alco'] = base['alco'].astype(type(np.nan))\n",
    "\n",
    "covid1['date'] = pd.to_datetime(covid1['date'])\n",
    "world_filter = covid1['location'] == \"World\"\n",
    "covid = covid1[~world_filter] #dataframe for all the induvidual countries\n",
    "covid_world = covid[world_filter] #cummulated data for the world, eg, total new_cases on a date recorded in all the countries\n",
    "\n",
    "\n"
   ]
  },
  {
   "cell_type": "code",
   "execution_count": 134,
   "metadata": {},
   "outputs": [
    {
     "data": {
      "text/plain": [
       "\"\\nalco_cols = ['id', 'alco']\\n\\nid col was set as the index\\nbase_cols = ['age', 'gender', 'height', 'weight', 'ap_hi', 'ap_lo', 'cholesterol',\\n       'smoke']\\n\\ncovid_cols = ['location', 'date', 'new_cases', 'new_deaths', 'population',\\n       'aged_65_older_percent', 'gdp_per_capita',\\n       'hospital_beds_per_thousand']\\n\""
      ]
     },
     "execution_count": 134,
     "metadata": {},
     "output_type": "execute_result"
    }
   ],
   "source": [
    "\"\"\"\n",
    "alco_cols = ['id', 'alco']\n",
    "\n",
    "id col was set as the index\n",
    "base_cols = ['age', 'gender', 'height', 'weight', 'ap_hi', 'ap_lo', 'cholesterol',\n",
    "       'smoke']\n",
    "\n",
    "covid_cols = ['location', 'date', 'new_cases', 'new_deaths', 'population',\n",
    "       'aged_65_older_percent', 'gdp_per_capita',\n",
    "       'hospital_beds_per_thousand']\n",
    "\"\"\""
   ]
  },
  {
   "cell_type": "code",
   "execution_count": 218,
   "metadata": {},
   "outputs": [
    {
     "data": {
      "text/plain": [
       "age\n",
       "True     39497\n",
       "False    17406\n",
       "Name: count, dtype: int64"
      ]
     },
     "execution_count": 218,
     "metadata": {},
     "output_type": "execute_result"
    }
   ],
   "source": [
    "# smoke_group = base.groupby('gender')\n",
    "# smoke_group.get_group(2)['smoke'].value_counts()\n",
    "\n",
    "# base1.sort_values(by='height', ascending=False)[0:700]['height'].value_counts()\n",
    "\n",
    "# std = base1['height'].std(skipna=True)\n",
    "# avg = base1['height'].mean()\n",
    "# hstd2 = avg+(2*std)\n",
    "# lstd2 = avg-(2*std)\n",
    "\n",
    "# f = base['height'] > hstd2 #1439\n",
    "# f2 = base['height'] < lstd2 #896\n",
    "# f.value_counts()\n",
    "\n",
    "# f = base['alco'] != \"None\"\n",
    "# df1 = base[f]\n",
    "# f3 = df1['age']>50\n",
    "# f3.value_counts()\n",
    "# # df2 = df1.groupby('alco')\n",
    "# # f2 = df2.get_group(1)['age']>50\n",
    "# # f2.value_counts()\n"
   ]
  },
  {
   "cell_type": "code",
   "execution_count": null,
   "metadata": {},
   "outputs": [],
   "source": [
    "help(base['height'].std())"
   ]
  },
  {
   "cell_type": "code",
   "execution_count": null,
   "metadata": {},
   "outputs": [],
   "source": [
    "mean high bp non smokers = 128.86143096614498\n",
    "mean high bp smpkers = 128.36051223861242\n",
    "\n",
    "chol_smokers = 1.3895282865942615\n",
    "1.3646817377136502\n",
    "\n",
    "weigh_non_smoektrs = 73.90235152198775\n",
    "77.34435078618901\n",
    "\n",
    "hbp_women =128.1392488469141\n",
    "130.07887208827134\n",
    "\n",
    "women_smokers = 813\n",
    "men_smokers = 5356\n",
    "\n",
    "# alco['alco'].value_counts()"
   ]
  },
  {
   "cell_type": "code",
   "execution_count": 131,
   "metadata": {},
   "outputs": [
    {
     "data": {
      "text/plain": [
       "alco\n",
       "False    46615\n",
       "True      1957\n",
       "Name: count, dtype: int64"
      ]
     },
     "execution_count": 131,
     "metadata": {},
     "output_type": "execute_result"
    }
   ],
   "source": [
    "filt = (base['age']/365) > 50 # 48572\n",
    "(base[filt]['alco'] == 1).value_counts()"
   ]
  },
  {
   "cell_type": "code",
   "execution_count": null,
   "metadata": {},
   "outputs": [],
   "source": [
    "filt4 = covid['hospital_beds_per_thousand'] >= 5\n",
    "filt5 = covid[filt4]['gdp_per_capita'] > 10000\n",
    "print(\"filt4 array\")\n",
    "print(filt4.value_counts())\n",
    "print(\"filt5 array\")\n",
    "print(filt5.value_counts())\n",
    "# print(\"Probabilty:\" , (2997/3499)*100) # values obtained from output earlier. I COULF BE WRONG!!"
   ]
  },
  {
   "cell_type": "code",
   "execution_count": 128,
   "metadata": {},
   "outputs": [
    {
     "data": {
      "text/plain": [
       "numpy.datetime64('2020-03-01T00:00:00.000000000')"
      ]
     },
     "execution_count": 128,
     "metadata": {},
     "output_type": "execute_result"
    }
   ],
   "source": [
    "location_df = covid.groupby(['location'])\n",
    "\n",
    "location_df.get_group('Italy')\n",
    "it_cum = np.array(location_df.get_group('Italy')['new_cases'].cumsum())\n",
    "ger_cum = np.array(location_df.get_group('Germany')['new_cases'].cumsum())\n",
    "\n",
    "np.where((it_cum - ger_cum)==1017)\n",
    "\n",
    "np.array(location_df.get_group('Germany').sort_values(by = 'date', ascending = True)['date'])[61]\n"
   ]
  },
  {
   "cell_type": "code",
   "execution_count": 219,
   "metadata": {},
   "outputs": [
    {
     "data": {
      "text/plain": [
       "location\n",
       "United States                      0.112006\n",
       "United Kingdom                     0.040883\n",
       "Brazil                             0.038406\n",
       "Italy                              0.034043\n",
       "France                             0.029296\n",
       "                                     ...   \n",
       "Seychelles                         0.000000\n",
       "Bhutan                             0.000000\n",
       "Mongolia                           0.000000\n",
       "Bonaire Sint Eustatius and Saba    0.000000\n",
       "Gibraltar                          0.000000\n",
       "Name: new_deaths, Length: 211, dtype: float64"
      ]
     },
     "execution_count": 219,
     "metadata": {},
     "output_type": "execute_result"
    }
   ],
   "source": [
    "(location_df['new_deaths'].sum()/1000000).sort_values(ascending = False)"
   ]
  },
  {
   "cell_type": "code",
   "execution_count": 231,
   "metadata": {},
   "outputs": [
    {
     "name": "stdout",
     "output_type": "stream",
     "text": [
      "hospital_beds_per_thousand\n",
      "False    19420\n",
      "True      3499\n",
      "Name: count, dtype: int64\n",
      "gdp_per_capita\n",
      "True     2997\n",
      "False     502\n",
      "Name: count, dtype: int64\n"
     ]
    },
    {
     "data": {
      "text/plain": [
       "0.8565304372677908"
      ]
     },
     "execution_count": 231,
     "metadata": {},
     "output_type": "execute_result"
    }
   ],
   "source": [
    "\n",
    "filt4 = covid['hospital_beds_per_thousand'] >= 5 # 3499 True\n",
    "filt3 = covid[filt4]['gdp_per_capita'] > 10000 # 2997 True\n",
    "print(filt4.value_counts())\n",
    "print(filt3.value_counts())\n",
    "#thus\n",
    "2997/3499"
   ]
  },
  {
   "cell_type": "code",
   "execution_count": 129,
   "metadata": {},
   "outputs": [
    {
     "data": {
      "text/plain": [
       "location\n",
       "Afghanistan       0.006298\n",
       "Albania           0.000139\n",
       "Algeria           0.001176\n",
       "Andorra           0.000000\n",
       "Angola            0.000019\n",
       "                    ...   \n",
       "Western Sahara    0.000000\n",
       "Yemen             0.000120\n",
       "Zambia            0.000000\n",
       "Zimbabwe          0.000037\n",
       "World             1.000000\n",
       "Name: new_cases, Length: 211, dtype: float64"
      ]
     },
     "execution_count": 129,
     "metadata": {},
     "output_type": "execute_result"
    }
   ],
   "source": [
    "date_df = covid1.groupby('date')\n",
    "date = '2020-06-01'\n",
    "country = 'Germany'\n",
    "inquiry = 'new_cases'\n",
    "modified_date_df = date_df.get_group(date)\n",
    "modified_date_df.set_index('location', inplace=True)\n",
    "modified_date_df[inquiry].apply(lambda x: (x/modified_date_df.loc[\"World\", inquiry]))#[country]\n",
    "\n",
    "# %matplotlib inline\n",
    "# a.plot()"
   ]
  },
  {
   "cell_type": "code",
   "execution_count": 130,
   "metadata": {},
   "outputs": [
    {
     "data": {
      "text/plain": [
       "0.002453827868393984"
      ]
     },
     "execution_count": 130,
     "metadata": {},
     "output_type": "execute_result"
    }
   ],
   "source": [
    "#  FINDING PERCENTAGE OF COUNRTY DEATHS IN A DATE RANGE\n",
    "filt = (covid1['date'] >= pd.to_datetime('2020-03-10')) & (covid1['date'] < pd.to_datetime('2020-06-01'))\n",
    "modified_covid = covid1[filt]\n",
    "location_modified_covid = modified_covid.groupby('location')\n",
    "country = 'Afghanistan'\n",
    "inquiry = 'new_cases'\n",
    "country_cases = location_modified_covid.get_group(country)[inquiry].sum()\n",
    "world_cases = location_modified_covid.get_group(\"World\")[inquiry].sum()\n",
    "\n",
    "country_cases/world_cases"
   ]
  },
  {
   "cell_type": "code",
   "execution_count": 338,
   "metadata": {},
   "outputs": [
    {
     "data": {
      "text/plain": [
       "(10798, 23713)"
      ]
     },
     "execution_count": 338,
     "metadata": {},
     "output_type": "execute_result"
    }
   ],
   "source": [
    "min = base['age'].min()\n",
    "max = base['age'].max()\n",
    "min, max"
   ]
  },
  {
   "cell_type": "code",
   "execution_count": 175,
   "metadata": {},
   "outputs": [
    {
     "data": {
      "text/html": [
       "<div>\n",
       "<style scoped>\n",
       "    .dataframe tbody tr th:only-of-type {\n",
       "        vertical-align: middle;\n",
       "    }\n",
       "\n",
       "    .dataframe tbody tr th {\n",
       "        vertical-align: top;\n",
       "    }\n",
       "\n",
       "    .dataframe thead th {\n",
       "        text-align: right;\n",
       "    }\n",
       "</style>\n",
       "<table border=\"1\" class=\"dataframe\">\n",
       "  <thead>\n",
       "    <tr style=\"text-align: right;\">\n",
       "      <th></th>\n",
       "      <th>age</th>\n",
       "      <th>gender</th>\n",
       "      <th>height</th>\n",
       "      <th>weight</th>\n",
       "      <th>ap_hi</th>\n",
       "      <th>ap_lo</th>\n",
       "      <th>cholesterol</th>\n",
       "      <th>smoke</th>\n",
       "    </tr>\n",
       "  </thead>\n",
       "  <tbody>\n",
       "    <tr>\n",
       "      <th>age</th>\n",
       "      <td>1.000000</td>\n",
       "      <td>-0.020176</td>\n",
       "      <td>-0.082292</td>\n",
       "      <td>0.061559</td>\n",
       "      <td>0.219087</td>\n",
       "      <td>0.156700</td>\n",
       "      <td>0.140113</td>\n",
       "      <td>-0.047471</td>\n",
       "    </tr>\n",
       "    <tr>\n",
       "      <th>gender</th>\n",
       "      <td>-0.020176</td>\n",
       "      <td>1.000000</td>\n",
       "      <td>0.533805</td>\n",
       "      <td>0.172480</td>\n",
       "      <td>0.063174</td>\n",
       "      <td>0.066374</td>\n",
       "      <td>-0.035730</td>\n",
       "      <td>0.338135</td>\n",
       "    </tr>\n",
       "    <tr>\n",
       "      <th>height</th>\n",
       "      <td>-0.082292</td>\n",
       "      <td>0.533805</td>\n",
       "      <td>1.000000</td>\n",
       "      <td>0.313569</td>\n",
       "      <td>0.019381</td>\n",
       "      <td>0.030534</td>\n",
       "      <td>-0.058940</td>\n",
       "      <td>0.197632</td>\n",
       "    </tr>\n",
       "    <tr>\n",
       "      <th>weight</th>\n",
       "      <td>0.061559</td>\n",
       "      <td>0.172480</td>\n",
       "      <td>0.313569</td>\n",
       "      <td>1.000000</td>\n",
       "      <td>0.277749</td>\n",
       "      <td>0.254420</td>\n",
       "      <td>0.137908</td>\n",
       "      <td>0.071676</td>\n",
       "    </tr>\n",
       "    <tr>\n",
       "      <th>ap_hi</th>\n",
       "      <td>0.219087</td>\n",
       "      <td>0.063174</td>\n",
       "      <td>0.019381</td>\n",
       "      <td>0.277749</td>\n",
       "      <td>1.000000</td>\n",
       "      <td>0.735436</td>\n",
       "      <td>0.208722</td>\n",
       "      <td>0.028929</td>\n",
       "    </tr>\n",
       "    <tr>\n",
       "      <th>ap_lo</th>\n",
       "      <td>0.156700</td>\n",
       "      <td>0.066374</td>\n",
       "      <td>0.030534</td>\n",
       "      <td>0.254420</td>\n",
       "      <td>0.735436</td>\n",
       "      <td>1.000000</td>\n",
       "      <td>0.167401</td>\n",
       "      <td>0.026172</td>\n",
       "    </tr>\n",
       "    <tr>\n",
       "      <th>cholesterol</th>\n",
       "      <td>0.140113</td>\n",
       "      <td>-0.035730</td>\n",
       "      <td>-0.058940</td>\n",
       "      <td>0.137908</td>\n",
       "      <td>0.208722</td>\n",
       "      <td>0.167401</td>\n",
       "      <td>1.000000</td>\n",
       "      <td>0.015220</td>\n",
       "    </tr>\n",
       "    <tr>\n",
       "      <th>smoke</th>\n",
       "      <td>-0.047471</td>\n",
       "      <td>0.338135</td>\n",
       "      <td>0.197632</td>\n",
       "      <td>0.071676</td>\n",
       "      <td>0.028929</td>\n",
       "      <td>0.026172</td>\n",
       "      <td>0.015220</td>\n",
       "      <td>1.000000</td>\n",
       "    </tr>\n",
       "  </tbody>\n",
       "</table>\n",
       "</div>"
      ],
      "text/plain": [
       "                  age    gender    height    weight     ap_hi     ap_lo  \\\n",
       "age          1.000000 -0.020176 -0.082292  0.061559  0.219087  0.156700   \n",
       "gender      -0.020176  1.000000  0.533805  0.172480  0.063174  0.066374   \n",
       "height      -0.082292  0.533805  1.000000  0.313569  0.019381  0.030534   \n",
       "weight       0.061559  0.172480  0.313569  1.000000  0.277749  0.254420   \n",
       "ap_hi        0.219087  0.063174  0.019381  0.277749  1.000000  0.735436   \n",
       "ap_lo        0.156700  0.066374  0.030534  0.254420  0.735436  1.000000   \n",
       "cholesterol  0.140113 -0.035730 -0.058940  0.137908  0.208722  0.167401   \n",
       "smoke       -0.047471  0.338135  0.197632  0.071676  0.028929  0.026172   \n",
       "\n",
       "             cholesterol     smoke  \n",
       "age             0.140113 -0.047471  \n",
       "gender         -0.035730  0.338135  \n",
       "height         -0.058940  0.197632  \n",
       "weight          0.137908  0.071676  \n",
       "ap_hi           0.208722  0.028929  \n",
       "ap_lo           0.167401  0.026172  \n",
       "cholesterol     1.000000  0.015220  \n",
       "smoke           0.015220  1.000000  "
      ]
     },
     "execution_count": 175,
     "metadata": {},
     "output_type": "execute_result"
    }
   ],
   "source": [
    "spearman_corr = base1.corr(method='spearman')\n",
    "spearman_corr\n"
   ]
  },
  {
   "cell_type": "code",
   "execution_count": 132,
   "metadata": {},
   "outputs": [
    {
     "data": {
      "text/plain": [
       "alco\n",
       "False    46615\n",
       "True      1957\n",
       "Name: count, dtype: int64"
      ]
     },
     "execution_count": 132,
     "metadata": {},
     "output_type": "execute_result"
    }
   ],
   "source": [
    "import pandas as pd\n",
    "\n",
    "# Sample DataFrames\n",
    "data1 = {'A': [1, 2, 3], 'B': [4, 5, 6]}\n",
    "data2 = {'C': [7, 8], 'D': [10, 11]}\n",
    "index_values = ['X', 'Y', 'Z']\n",
    "\n",
    "df1 = pd.DataFrame(data1, index=index_values)\n",
    "df2 = pd.DataFrame(data2, index=['X', 'Y'])\n",
    "\n",
    "# Merge DataFrames based on index\n",
    "merged_df = base1.merge(alco, left_index=True, right_index=True, how='outer')\n",
    "filt = (merged_df['age']/365) > 50 # 48572\n",
    "(merged_df[filt]['alco'] == 1).value_counts()\n",
    "# alco\n",
    "# False    48572\n",
    "# Name: count, dtype: int64"
   ]
  },
  {
   "cell_type": "code",
   "execution_count": 435,
   "metadata": {},
   "outputs": [
    {
     "data": {
      "text/plain": [
       "128.86143096614498"
      ]
     },
     "execution_count": 435,
     "metadata": {},
     "output_type": "execute_result"
    }
   ],
   "source": [
    "mod_merged_df = merged_df.groupby(by='smoke')\n",
    "mod_merged_df.get_group(0.0)['ap_hi'].mean()"
   ]
  },
  {
   "cell_type": "code",
   "execution_count": null,
   "metadata": {},
   "outputs": [],
   "source": [
    "mean high bp non smokers = 128.86143096614498\n",
    "mean high bp smpkers = 128.36051223861242\n",
    "\n",
    "chol_smokers = 1.3895282865942615\n",
    "1.3646817377136502\n",
    "\n",
    "weigh_non_smoektrs = 73.90235152198775\n",
    "77.34435078618901\n",
    "\n",
    "hbp_women =128.1392488469141\n",
    "130.07887208827134\n",
    "\n",
    "# alco['alco'].value_counts()\n",
    "\n",
    "\n"
   ]
  },
  {
   "cell_type": "code",
   "execution_count": 232,
   "metadata": {},
   "outputs": [
    {
     "name": "stdout",
     "output_type": "stream",
     "text": [
      "0\n",
      "1\n",
      "2\n"
     ]
    }
   ],
   "source": [
    "a = [1,2,3]\n",
    "for i, e in enumerate(a):\n",
    "    print(i)"
   ]
  },
  {
   "cell_type": "code",
   "execution_count": null,
   "metadata": {},
   "outputs": [],
   "source": []
  }
 ],
 "metadata": {
  "kernelspec": {
   "display_name": "predis_venc",
   "language": "python",
   "name": "python3"
  },
  "language_info": {
   "codemirror_mode": {
    "name": "ipython",
    "version": 3
   },
   "file_extension": ".py",
   "mimetype": "text/x-python",
   "name": "python",
   "nbconvert_exporter": "python",
   "pygments_lexer": "ipython3",
   "version": "3.11.3"
  },
  "orig_nbformat": 4
 },
 "nbformat": 4,
 "nbformat_minor": 2
}
