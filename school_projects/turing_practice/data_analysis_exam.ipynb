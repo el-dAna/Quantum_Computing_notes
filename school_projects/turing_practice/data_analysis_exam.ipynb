{
 "cells": [
  {
   "cell_type": "code",
   "execution_count": 329,
   "metadata": {},
   "outputs": [],
   "source": [
    "import pandas as pd \n",
    "import os\n",
    "%matplotlib inline\n",
    "import matplotlib.pyplot as plt\n",
    "import numpy as np"
   ]
  },
  {
   "cell_type": "code",
   "execution_count": 459,
   "metadata": {},
   "outputs": [
    {
     "data": {
      "text/html": [
       "<div>\n",
       "<style scoped>\n",
       "    .dataframe tbody tr th:only-of-type {\n",
       "        vertical-align: middle;\n",
       "    }\n",
       "\n",
       "    .dataframe tbody tr th {\n",
       "        vertical-align: top;\n",
       "    }\n",
       "\n",
       "    .dataframe thead th {\n",
       "        text-align: right;\n",
       "    }\n",
       "</style>\n",
       "<table border=\"1\" class=\"dataframe\">\n",
       "  <thead>\n",
       "    <tr style=\"text-align: right;\">\n",
       "      <th></th>\n",
       "      <th>alco</th>\n",
       "    </tr>\n",
       "    <tr>\n",
       "      <th>id</th>\n",
       "      <th></th>\n",
       "    </tr>\n",
       "  </thead>\n",
       "  <tbody>\n",
       "    <tr>\n",
       "      <th>44.0</th>\n",
       "      <td>0</td>\n",
       "    </tr>\n",
       "    <tr>\n",
       "      <th>45.0</th>\n",
       "      <td>0</td>\n",
       "    </tr>\n",
       "    <tr>\n",
       "      <th>46.0</th>\n",
       "      <td>0</td>\n",
       "    </tr>\n",
       "    <tr>\n",
       "      <th>47.0</th>\n",
       "      <td>0</td>\n",
       "    </tr>\n",
       "    <tr>\n",
       "      <th>49.0</th>\n",
       "      <td>0</td>\n",
       "    </tr>\n",
       "    <tr>\n",
       "      <th>...</th>\n",
       "      <td>...</td>\n",
       "    </tr>\n",
       "    <tr>\n",
       "      <th>99949.0</th>\n",
       "      <td>0</td>\n",
       "    </tr>\n",
       "    <tr>\n",
       "      <th>99950.0</th>\n",
       "      <td>0</td>\n",
       "    </tr>\n",
       "    <tr>\n",
       "      <th>99951.0</th>\n",
       "      <td>0</td>\n",
       "    </tr>\n",
       "    <tr>\n",
       "      <th>99952.0</th>\n",
       "      <td>0</td>\n",
       "    </tr>\n",
       "    <tr>\n",
       "      <th>99954.0</th>\n",
       "      <td>0</td>\n",
       "    </tr>\n",
       "  </tbody>\n",
       "</table>\n",
       "<p>56903 rows × 1 columns</p>\n",
       "</div>"
      ],
      "text/plain": [
       "        alco\n",
       "id          \n",
       "44.0       0\n",
       "45.0       0\n",
       "46.0       0\n",
       "47.0       0\n",
       "49.0       0\n",
       "...      ...\n",
       "99949.0    0\n",
       "99950.0    0\n",
       "99951.0    0\n",
       "99952.0    0\n",
       "99954.0    0\n",
       "\n",
       "[56903 rows x 1 columns]"
      ]
     },
     "execution_count": 459,
     "metadata": {},
     "output_type": "execute_result"
    }
   ],
   "source": [
    "alco = pd.read_csv(\"./data/cardio_alco.csv\")\n",
    "base = pd.read_csv(\"./data/cardio_base.csv\", index_col = 'id')\n",
    "covid = pd.read_csv(\"./data/covid_data.csv\")\n",
    "alco[[\"id\", \"alco\"]] = alco['id;alco'].str.split(\";\", expand = True)\n",
    "alco.drop(columns = ['id;alco'], inplace = True)\n",
    "alco['id'] = alco['id'].astype(float)\n",
    "alco.set_index('id')"
   ]
  },
  {
   "cell_type": "code",
   "execution_count": 483,
   "metadata": {},
   "outputs": [
    {
     "name": "stdout",
     "output_type": "stream",
     "text": [
      "filt4 array\n",
      "hospital_beds_per_thousand\n",
      "False    19583\n",
      "True      3499\n",
      "Name: count, dtype: int64\n",
      "filt5 array\n",
      "gdp_per_capita\n",
      "True     2997\n",
      "False     502\n",
      "Name: count, dtype: int64\n",
      "Probabilty: 85.65304372677907\n"
     ]
    }
   ],
   "source": [
    "filt4 = covid['hospital_beds_per_thousand'] >= 5\n",
    "filt5 = covid[filt4]['gdp_per_capita'] > 10000\n",
    "print(\"filt4 array\")\n",
    "print(filt4.value_counts())\n",
    "print(\"filt5 array\")\n",
    "print(filt5.value_counts())\n",
    "print(\"Probabilty:\" , (2997/3499)*100) # values obtained from output earlier. I COULF BE WRONG!!"
   ]
  },
  {
   "cell_type": "code",
   "execution_count": 472,
   "metadata": {},
   "outputs": [
    {
     "data": {
      "text/plain": [
       "gdp_per_capita\n",
       "True     2997\n",
       "False     502\n",
       "Name: count, dtype: int64"
      ]
     },
     "execution_count": 472,
     "metadata": {},
     "output_type": "execute_result"
    }
   ],
   "source": [
    "filt5.value_counts()"
   ]
  },
  {
   "cell_type": "code",
   "execution_count": 467,
   "metadata": {},
   "outputs": [
    {
     "data": {
      "text/plain": [
       "0.8565304372677908"
      ]
     },
     "execution_count": 467,
     "metadata": {},
     "output_type": "execute_result"
    }
   ],
   "source": [
    "2997/3499"
   ]
  },
  {
   "cell_type": "code",
   "execution_count": 330,
   "metadata": {},
   "outputs": [],
   "source": [
    "covid['date'] = pd.to_datetime(covid['date'])\n",
    "location_df = covid.groupby(by='location')"
   ]
  },
  {
   "cell_type": "code",
   "execution_count": 455,
   "metadata": {},
   "outputs": [
    {
     "data": {
      "text/plain": [
       "location\n",
       "World                              0.411195\n",
       "United States                      0.112006\n",
       "United Kingdom                     0.040883\n",
       "Brazil                             0.038406\n",
       "Italy                              0.034043\n",
       "                                     ...   \n",
       "Bonaire Sint Eustatius and Saba    0.000000\n",
       "Seychelles                         0.000000\n",
       "Bhutan                             0.000000\n",
       "Saint Kitts and Nevis              0.000000\n",
       "Dominica                           0.000000\n",
       "Name: new_deaths, Length: 212, dtype: float64"
      ]
     },
     "execution_count": 455,
     "metadata": {},
     "output_type": "execute_result"
    }
   ],
   "source": [
    "(location_df['new_deaths'].sum()/1000000).sort_values(ascending = False)"
   ]
  },
  {
   "cell_type": "code",
   "execution_count": 446,
   "metadata": {},
   "outputs": [
    {
     "data": {
      "text/plain": [
       "(array([61], dtype=int64),)"
      ]
     },
     "execution_count": 446,
     "metadata": {},
     "output_type": "execute_result"
    }
   ],
   "source": [
    "location_df.get_group('Italy')\n",
    "it_cum = np.array(location_df.get_group('Italy')['new_cases'].cumsum())\n",
    "ger_cum = np.array(location_df.get_group('Germany')['new_cases'].cumsum())\n",
    "\n",
    "np.where((it_cum - ger_cum)==1017)"
   ]
  },
  {
   "cell_type": "code",
   "execution_count": 452,
   "metadata": {},
   "outputs": [
    {
     "data": {
      "text/plain": [
       "numpy.datetime64('2020-03-01T00:00:00.000000000')"
      ]
     },
     "execution_count": 452,
     "metadata": {},
     "output_type": "execute_result"
    }
   ],
   "source": [
    "np.array(location_df.get_group('Germany').sort_values(by = 'date', ascending = True)['date'])[61]\n"
   ]
  },
  {
   "cell_type": "code",
   "execution_count": 331,
   "metadata": {},
   "outputs": [
    {
     "data": {
      "text/plain": [
       "location\n",
       "Afghanistan       0.006298\n",
       "Albania           0.000139\n",
       "Algeria           0.001176\n",
       "Andorra           0.000000\n",
       "Angola            0.000019\n",
       "                    ...   \n",
       "Western Sahara    0.000000\n",
       "Yemen             0.000120\n",
       "Zambia            0.000000\n",
       "Zimbabwe          0.000037\n",
       "World             1.000000\n",
       "Name: new_cases, Length: 211, dtype: float64"
      ]
     },
     "execution_count": 331,
     "metadata": {},
     "output_type": "execute_result"
    }
   ],
   "source": [
    "date = '2020-06-01'\n",
    "country = 'Germany'\n",
    "inquiry = 'new_cases'\n",
    "modified_date_df = date_df.get_group(date)\n",
    "modified_date_df.set_index('location', inplace=True)\n",
    "modified_date_df[inquiry].apply(lambda x: (x/modified_date_df.loc[\"World\", inquiry]))#[country]\n",
    "\n",
    "# %matplotlib inline\n",
    "# a.plot()"
   ]
  },
  {
   "cell_type": "code",
   "execution_count": 328,
   "metadata": {},
   "outputs": [
    {
     "data": {
      "text/plain": [
       "0.002453827868393984"
      ]
     },
     "execution_count": 328,
     "metadata": {},
     "output_type": "execute_result"
    }
   ],
   "source": [
    "#  FINDING PERCENTAGE OF COUNRTY DEATHS IN A DATE RANGE\n",
    "filt = (covid['date'] >= pd.to_datetime('2020-03-10')) & (covid['date'] < pd.to_datetime('2020-06-01'))\n",
    "modified_covid = covid[filt]\n",
    "location_modified_covid = modified_covid.groupby('location')\n",
    "country = 'Afghanistan'\n",
    "inquiry = 'new_cases'\n",
    "country_cases = location_modified_covid.get_group(country)[inquiry].sum()\n",
    "world_cases = location_modified_covid.get_group(\"World\")[inquiry].sum()\n",
    "\n",
    "country_cases/world_cases"
   ]
  },
  {
   "cell_type": "code",
   "execution_count": 338,
   "metadata": {},
   "outputs": [
    {
     "data": {
      "text/plain": [
       "(10798, 23713)"
      ]
     },
     "execution_count": 338,
     "metadata": {},
     "output_type": "execute_result"
    }
   ],
   "source": [
    "min = base['age'].min()\n",
    "max = base['age'].max()\n",
    "min, max"
   ]
  },
  {
   "cell_type": "code",
   "execution_count": null,
   "metadata": {},
   "outputs": [],
   "source": [
    "spearman_corr = base.corr(method='spearman')\n",
    "spearman_corr\n"
   ]
  },
  {
   "cell_type": "code",
   "execution_count": 462,
   "metadata": {},
   "outputs": [
    {
     "name": "stderr",
     "output_type": "stream",
     "text": [
      "C:\\Users\\BenjaminAtadana\\AppData\\Local\\Temp\\ipykernel_12024\\933179182.py:2: UserWarning: Boolean Series key will be reindexed to match DataFrame index.\n",
      "  covid[filt]\n"
     ]
    },
    {
     "data": {
      "text/html": [
       "<div>\n",
       "<style scoped>\n",
       "    .dataframe tbody tr th:only-of-type {\n",
       "        vertical-align: middle;\n",
       "    }\n",
       "\n",
       "    .dataframe tbody tr th {\n",
       "        vertical-align: top;\n",
       "    }\n",
       "\n",
       "    .dataframe thead th {\n",
       "        text-align: right;\n",
       "    }\n",
       "</style>\n",
       "<table border=\"1\" class=\"dataframe\">\n",
       "  <thead>\n",
       "    <tr style=\"text-align: right;\">\n",
       "      <th></th>\n",
       "      <th>location</th>\n",
       "      <th>date</th>\n",
       "      <th>new_cases</th>\n",
       "      <th>new_deaths</th>\n",
       "      <th>population</th>\n",
       "      <th>aged_65_older_percent</th>\n",
       "      <th>gdp_per_capita</th>\n",
       "      <th>hospital_beds_per_thousand</th>\n",
       "    </tr>\n",
       "  </thead>\n",
       "  <tbody>\n",
       "    <tr>\n",
       "      <th>0</th>\n",
       "      <td>Afghanistan</td>\n",
       "      <td>2019-12-31</td>\n",
       "      <td>0</td>\n",
       "      <td>0</td>\n",
       "      <td>38928341.0</td>\n",
       "      <td>2.581</td>\n",
       "      <td>1803.987</td>\n",
       "      <td>0.5</td>\n",
       "    </tr>\n",
       "    <tr>\n",
       "      <th>1</th>\n",
       "      <td>Afghanistan</td>\n",
       "      <td>2020-01-01</td>\n",
       "      <td>0</td>\n",
       "      <td>0</td>\n",
       "      <td>38928341.0</td>\n",
       "      <td>2.581</td>\n",
       "      <td>1803.987</td>\n",
       "      <td>0.5</td>\n",
       "    </tr>\n",
       "    <tr>\n",
       "      <th>2</th>\n",
       "      <td>Afghanistan</td>\n",
       "      <td>2020-01-02</td>\n",
       "      <td>0</td>\n",
       "      <td>0</td>\n",
       "      <td>38928341.0</td>\n",
       "      <td>2.581</td>\n",
       "      <td>1803.987</td>\n",
       "      <td>0.5</td>\n",
       "    </tr>\n",
       "    <tr>\n",
       "      <th>8</th>\n",
       "      <td>Afghanistan</td>\n",
       "      <td>2020-01-08</td>\n",
       "      <td>0</td>\n",
       "      <td>0</td>\n",
       "      <td>38928341.0</td>\n",
       "      <td>2.581</td>\n",
       "      <td>1803.987</td>\n",
       "      <td>0.5</td>\n",
       "    </tr>\n",
       "    <tr>\n",
       "      <th>9</th>\n",
       "      <td>Afghanistan</td>\n",
       "      <td>2020-01-09</td>\n",
       "      <td>0</td>\n",
       "      <td>0</td>\n",
       "      <td>38928341.0</td>\n",
       "      <td>2.581</td>\n",
       "      <td>1803.987</td>\n",
       "      <td>0.5</td>\n",
       "    </tr>\n",
       "    <tr>\n",
       "      <th>...</th>\n",
       "      <td>...</td>\n",
       "      <td>...</td>\n",
       "      <td>...</td>\n",
       "      <td>...</td>\n",
       "      <td>...</td>\n",
       "      <td>...</td>\n",
       "      <td>...</td>\n",
       "      <td>...</td>\n",
       "    </tr>\n",
       "    <tr>\n",
       "      <th>23065</th>\n",
       "      <td>International</td>\n",
       "      <td>2020-02-16</td>\n",
       "      <td>134</td>\n",
       "      <td>0</td>\n",
       "      <td>NaN</td>\n",
       "      <td>NaN</td>\n",
       "      <td>NaN</td>\n",
       "      <td>NaN</td>\n",
       "    </tr>\n",
       "    <tr>\n",
       "      <th>23067</th>\n",
       "      <td>International</td>\n",
       "      <td>2020-02-18</td>\n",
       "      <td>99</td>\n",
       "      <td>0</td>\n",
       "      <td>NaN</td>\n",
       "      <td>NaN</td>\n",
       "      <td>NaN</td>\n",
       "      <td>NaN</td>\n",
       "    </tr>\n",
       "    <tr>\n",
       "      <th>23074</th>\n",
       "      <td>International</td>\n",
       "      <td>2020-02-25</td>\n",
       "      <td>0</td>\n",
       "      <td>0</td>\n",
       "      <td>NaN</td>\n",
       "      <td>NaN</td>\n",
       "      <td>NaN</td>\n",
       "      <td>NaN</td>\n",
       "    </tr>\n",
       "    <tr>\n",
       "      <th>23075</th>\n",
       "      <td>International</td>\n",
       "      <td>2020-02-26</td>\n",
       "      <td>0</td>\n",
       "      <td>1</td>\n",
       "      <td>NaN</td>\n",
       "      <td>NaN</td>\n",
       "      <td>NaN</td>\n",
       "      <td>NaN</td>\n",
       "    </tr>\n",
       "    <tr>\n",
       "      <th>23078</th>\n",
       "      <td>International</td>\n",
       "      <td>2020-02-29</td>\n",
       "      <td>0</td>\n",
       "      <td>2</td>\n",
       "      <td>NaN</td>\n",
       "      <td>NaN</td>\n",
       "      <td>NaN</td>\n",
       "      <td>NaN</td>\n",
       "    </tr>\n",
       "  </tbody>\n",
       "</table>\n",
       "<p>11164 rows × 8 columns</p>\n",
       "</div>"
      ],
      "text/plain": [
       "            location        date  new_cases  new_deaths  population  \\\n",
       "0        Afghanistan  2019-12-31          0           0  38928341.0   \n",
       "1        Afghanistan  2020-01-01          0           0  38928341.0   \n",
       "2        Afghanistan  2020-01-02          0           0  38928341.0   \n",
       "8        Afghanistan  2020-01-08          0           0  38928341.0   \n",
       "9        Afghanistan  2020-01-09          0           0  38928341.0   \n",
       "...              ...         ...        ...         ...         ...   \n",
       "23065  International  2020-02-16        134           0         NaN   \n",
       "23067  International  2020-02-18         99           0         NaN   \n",
       "23074  International  2020-02-25          0           0         NaN   \n",
       "23075  International  2020-02-26          0           1         NaN   \n",
       "23078  International  2020-02-29          0           2         NaN   \n",
       "\n",
       "       aged_65_older_percent  gdp_per_capita  hospital_beds_per_thousand  \n",
       "0                      2.581        1803.987                         0.5  \n",
       "1                      2.581        1803.987                         0.5  \n",
       "2                      2.581        1803.987                         0.5  \n",
       "8                      2.581        1803.987                         0.5  \n",
       "9                      2.581        1803.987                         0.5  \n",
       "...                      ...             ...                         ...  \n",
       "23065                    NaN             NaN                         NaN  \n",
       "23067                    NaN             NaN                         NaN  \n",
       "23074                    NaN             NaN                         NaN  \n",
       "23075                    NaN             NaN                         NaN  \n",
       "23078                    NaN             NaN                         NaN  \n",
       "\n",
       "[11164 rows x 8 columns]"
      ]
     },
     "execution_count": 462,
     "metadata": {},
     "output_type": "execute_result"
    }
   ],
   "source": [
    "\n",
    "filt4 = covid['hospital_beds_per_thousand'] >= 5\n",
    "covid[filt]"
   ]
  },
  {
   "cell_type": "code",
   "execution_count": 373,
   "metadata": {},
   "outputs": [
    {
     "data": {
      "text/plain": [
       "700.0"
      ]
     },
     "execution_count": 373,
     "metadata": {},
     "output_type": "execute_result"
    }
   ],
   "source": [
    "b = np.array()"
   ]
  },
  {
   "cell_type": "code",
   "execution_count": 371,
   "metadata": {},
   "outputs": [
    {
     "data": {
      "text/html": [
       "<div>\n",
       "<style scoped>\n",
       "    .dataframe tbody tr th:only-of-type {\n",
       "        vertical-align: middle;\n",
       "    }\n",
       "\n",
       "    .dataframe tbody tr th {\n",
       "        vertical-align: top;\n",
       "    }\n",
       "\n",
       "    .dataframe thead th {\n",
       "        text-align: right;\n",
       "    }\n",
       "</style>\n",
       "<table border=\"1\" class=\"dataframe\">\n",
       "  <thead>\n",
       "    <tr style=\"text-align: right;\">\n",
       "      <th></th>\n",
       "      <th>location</th>\n",
       "      <th>date</th>\n",
       "      <th>new_cases</th>\n",
       "      <th>new_deaths</th>\n",
       "      <th>population</th>\n",
       "      <th>aged_65_older_percent</th>\n",
       "      <th>gdp_per_capita</th>\n",
       "      <th>hospital_beds_per_thousand</th>\n",
       "    </tr>\n",
       "  </thead>\n",
       "  <tbody>\n",
       "    <tr>\n",
       "      <th>0</th>\n",
       "      <td>Afghanistan</td>\n",
       "      <td>2019-12-31</td>\n",
       "      <td>0</td>\n",
       "      <td>0</td>\n",
       "      <td>38928341.0</td>\n",
       "      <td>2.581</td>\n",
       "      <td>1803.987</td>\n",
       "      <td>0.5</td>\n",
       "    </tr>\n",
       "    <tr>\n",
       "      <th>1</th>\n",
       "      <td>Afghanistan</td>\n",
       "      <td>2020-01-01</td>\n",
       "      <td>0</td>\n",
       "      <td>0</td>\n",
       "      <td>38928341.0</td>\n",
       "      <td>2.581</td>\n",
       "      <td>1803.987</td>\n",
       "      <td>0.5</td>\n",
       "    </tr>\n",
       "    <tr>\n",
       "      <th>2</th>\n",
       "      <td>Afghanistan</td>\n",
       "      <td>2020-01-02</td>\n",
       "      <td>0</td>\n",
       "      <td>0</td>\n",
       "      <td>38928341.0</td>\n",
       "      <td>2.581</td>\n",
       "      <td>1803.987</td>\n",
       "      <td>0.5</td>\n",
       "    </tr>\n",
       "    <tr>\n",
       "      <th>3</th>\n",
       "      <td>Afghanistan</td>\n",
       "      <td>2020-01-03</td>\n",
       "      <td>0</td>\n",
       "      <td>0</td>\n",
       "      <td>38928341.0</td>\n",
       "      <td>2.581</td>\n",
       "      <td>1803.987</td>\n",
       "      <td>0.5</td>\n",
       "    </tr>\n",
       "    <tr>\n",
       "      <th>4</th>\n",
       "      <td>Afghanistan</td>\n",
       "      <td>2020-01-04</td>\n",
       "      <td>0</td>\n",
       "      <td>0</td>\n",
       "      <td>38928341.0</td>\n",
       "      <td>2.581</td>\n",
       "      <td>1803.987</td>\n",
       "      <td>0.5</td>\n",
       "    </tr>\n",
       "  </tbody>\n",
       "</table>\n",
       "</div>"
      ],
      "text/plain": [
       "      location       date  new_cases  new_deaths  population  \\\n",
       "0  Afghanistan 2019-12-31          0           0  38928341.0   \n",
       "1  Afghanistan 2020-01-01          0           0  38928341.0   \n",
       "2  Afghanistan 2020-01-02          0           0  38928341.0   \n",
       "3  Afghanistan 2020-01-03          0           0  38928341.0   \n",
       "4  Afghanistan 2020-01-04          0           0  38928341.0   \n",
       "\n",
       "   aged_65_older_percent  gdp_per_capita  hospital_beds_per_thousand  \n",
       "0                  2.581        1803.987                         0.5  \n",
       "1                  2.581        1803.987                         0.5  \n",
       "2                  2.581        1803.987                         0.5  \n",
       "3                  2.581        1803.987                         0.5  \n",
       "4                  2.581        1803.987                         0.5  "
      ]
     },
     "execution_count": 371,
     "metadata": {},
     "output_type": "execute_result"
    }
   ],
   "source": [
    "covid.head()"
   ]
  },
  {
   "cell_type": "code",
   "execution_count": 406,
   "metadata": {},
   "outputs": [
    {
     "data": {
      "text/plain": [
       "alco\n",
       "False    48572\n",
       "Name: count, dtype: int64"
      ]
     },
     "execution_count": 406,
     "metadata": {},
     "output_type": "execute_result"
    }
   ],
   "source": [
    "import pandas as pd\n",
    "\n",
    "# Sample DataFrames\n",
    "data1 = {'A': [1, 2, 3], 'B': [4, 5, 6]}\n",
    "data2 = {'C': [7, 8], 'D': [10, 11]}\n",
    "index_values = ['X', 'Y', 'Z']\n",
    "\n",
    "df1 = pd.DataFrame(data1, index=index_values)\n",
    "df2 = pd.DataFrame(data2, index=['X', 'Y'])\n",
    "\n",
    "# Merge DataFrames based on index\n",
    "merged_df = base.merge(alco, left_index=True, right_index=True, how='outer')\n",
    "filt = (merged_df['age']/365) > 50 # 48572\n",
    "(merged_df[filt]['alco'] == 1).value_counts()"
   ]
  },
  {
   "cell_type": "code",
   "execution_count": 435,
   "metadata": {},
   "outputs": [
    {
     "data": {
      "text/plain": [
       "128.86143096614498"
      ]
     },
     "execution_count": 435,
     "metadata": {},
     "output_type": "execute_result"
    }
   ],
   "source": [
    "mod_merged_df = merged_df.groupby(by='smoke')\n",
    "mod_merged_df.get_group(0.0)['ap_hi'].mean()"
   ]
  },
  {
   "cell_type": "code",
   "execution_count": null,
   "metadata": {},
   "outputs": [],
   "source": [
    "mean high bp non smokers = 128.86143096614498\n",
    "mean high bp smpkers = 128.36051223861242\n",
    "\n",
    "chol_smokers = 1.3895282865942615\n",
    "1.3646817377136502\n",
    "\n",
    "weigh_non_smoektrs = 73.90235152198775\n",
    "77.34435078618901\n",
    "\n",
    "hbp_women =128.1392488469141\n",
    "130.07887208827134\n",
    "\n",
    "# alco['alco'].value_counts()\n",
    "\n",
    "\n",
    "\"\"\"\n",
    "alco_cols = ['id', 'alco']\n",
    "\n",
    "id col was set as the index\n",
    "base_cols = ['age', 'gender', 'height', 'weight', 'ap_hi', 'ap_lo', 'cholesterol',\n",
    "       'smoke']\n",
    "\n",
    "covid_cols = ['location', 'date', 'new_cases', 'new_deaths', 'population',\n",
    "       'aged_65_older_percent', 'gdp_per_capita',\n",
    "       'hospital_beds_per_thousand']\n",
    "\"\"\""
   ]
  }
 ],
 "metadata": {
  "kernelspec": {
   "display_name": "predis_venc",
   "language": "python",
   "name": "python3"
  },
  "language_info": {
   "codemirror_mode": {
    "name": "ipython",
    "version": 3
   },
   "file_extension": ".py",
   "mimetype": "text/x-python",
   "name": "python",
   "nbconvert_exporter": "python",
   "pygments_lexer": "ipython3",
   "version": "3.11.3"
  },
  "orig_nbformat": 4
 },
 "nbformat": 4,
 "nbformat_minor": 2
}
