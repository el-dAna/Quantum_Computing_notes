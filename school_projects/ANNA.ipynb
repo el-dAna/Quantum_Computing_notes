{
 "cells": [
  {
   "cell_type": "code",
   "execution_count": 1,
   "metadata": {},
   "outputs": [],
   "source": [
    "import tensorflow as tf\n",
    "from tensorflow import keras\n",
    "from tensorflow.keras import layers"
   ]
  },
  {
   "cell_type": "code",
   "execution_count": 2,
   "metadata": {},
   "outputs": [],
   "source": [
    "# Load and preprocess the MNIST dataset\n",
    "(x_train, y_train), (x_test, y_test) = keras.datasets.mnist.load_data()\n",
    "x_train, x_test = x_train / 255.0, x_test / 255.0  # Normalize pixel values to between 0 and 1"
   ]
  },
  {
   "cell_type": "code",
   "execution_count": 3,
   "metadata": {},
   "outputs": [
    {
     "data": {
      "text/plain": [
       "(60000, 28, 28)"
      ]
     },
     "execution_count": 3,
     "metadata": {},
     "output_type": "execute_result"
    }
   ],
   "source": [
    "x_train.shape"
   ]
  },
  {
   "cell_type": "code",
   "execution_count": 4,
   "metadata": {},
   "outputs": [
    {
     "name": "stdout",
     "output_type": "stream",
     "text": [
      "Epoch 1/5\n",
      "1875/1875 [==============================] - 14s 6ms/step - loss: 0.2944 - accuracy: 0.9144\n",
      "Epoch 2/5\n",
      "1875/1875 [==============================] - 11s 6ms/step - loss: 0.1431 - accuracy: 0.9575\n",
      "Epoch 3/5\n",
      "1875/1875 [==============================] - 11s 6ms/step - loss: 0.1096 - accuracy: 0.9666\n",
      "Epoch 4/5\n",
      "1875/1875 [==============================] - 11s 6ms/step - loss: 0.0879 - accuracy: 0.9729\n",
      "Epoch 5/5\n",
      "1875/1875 [==============================] - 11s 6ms/step - loss: 0.0769 - accuracy: 0.9762\n",
      "313/313 - 2s - loss: 0.0819 - accuracy: 0.9756 - 2s/epoch - 5ms/step\n",
      "\n",
      "Test accuracy: 0.975600004196167\n"
     ]
    }
   ],
   "source": [
    "# Build a simple feedforward neural network model\n",
    "model = keras.Sequential([\n",
    "    layers.Flatten(input_shape=(28, 28)),\n",
    "    layers.Dense(128, activation='relu'),\n",
    "    layers.Dropout(0.2),\n",
    "    layers.Dense(10)  # 10 output units for 10 classes (digits 0-9)\n",
    "])\n",
    "\n",
    "# Compile the model\n",
    "model.compile(optimizer='adam',\n",
    "              loss=tf.keras.losses.SparseCategoricalCrossentropy(from_logits=True),\n",
    "              metrics=['accuracy'])\n",
    "\n",
    "# Train the model\n",
    "model.fit(x_train, y_train, epochs=5)\n",
    "\n",
    "# Evaluate the model\n",
    "test_loss, test_acc = model.evaluate(x_test, y_test, verbose=2)\n",
    "print(f'\\nTest accuracy: {test_acc}')"
   ]
  },
  {
   "cell_type": "markdown",
   "metadata": {},
   "source": [
    "Layer1.\n",
    "y = WX + b\n",
    "W, X and B are voltages.\n",
    "to compute WX use inferting amp and W and X as inputs\n",
    "pixel value -> DAC -> Scaled from 1-5V -> Output X\n",
    "Initialise Randomly -> DAC -> scaled to 1-5V -> output W\n",
    "Te problem with W is that it could be any value theoritically, so based on what do we scale it down to just 1-5V?\n",
    "It could be! since -inf < W < +inf and between 1-5 there are infinite numbers, then we can map it.\n",
    "If input has N features, then there would be N Ws. Each require a DAC, so N + N DACs for the first layer and N DACs for Bs. Total = N+N+N = 3N DACs\n",
    "for X , a function to map [0-255] to [1-5v]\n",
    "for W, a function to map [-inf, inf] to [0-5v]"
   ]
  },
  {
   "cell_type": "code",
   "execution_count": 1,
   "metadata": {},
   "outputs": [
    {
     "ename": "ModuleNotFoundError",
     "evalue": "No module named 'simulink'",
     "output_type": "error",
     "traceback": [
      "\u001b[1;31m---------------------------------------------------------------------------\u001b[0m",
      "\u001b[1;31mModuleNotFoundError\u001b[0m                       Traceback (most recent call last)",
      "\u001b[1;32mc:\\Users\\BenjaminAtadana\\YandexDisk\\MY_FILES\\School_Side_Works\\Quantum_Computing_notes\\school_projects\\ANNA.ipynb Cell 6\u001b[0m line \u001b[0;36m1\n\u001b[1;32m----> <a href='vscode-notebook-cell:/c%3A/Users/BenjaminAtadana/YandexDisk/MY_FILES/School_Side_Works/Quantum_Computing_notes/school_projects/ANNA.ipynb#W5sZmlsZQ%3D%3D?line=0'>1</a>\u001b[0m \u001b[39mimport\u001b[39;00m \u001b[39msimulink\u001b[39;00m\n\u001b[0;32m      <a href='vscode-notebook-cell:/c%3A/Users/BenjaminAtadana/YandexDisk/MY_FILES/School_Side_Works/Quantum_Computing_notes/school_projects/ANNA.ipynb#W5sZmlsZQ%3D%3D?line=2'>3</a>\u001b[0m \u001b[39m# Create a new Simulink model\u001b[39;00m\n\u001b[0;32m      <a href='vscode-notebook-cell:/c%3A/Users/BenjaminAtadana/YandexDisk/MY_FILES/School_Side_Works/Quantum_Computing_notes/school_projects/ANNA.ipynb#W5sZmlsZQ%3D%3D?line=3'>4</a>\u001b[0m model \u001b[39m=\u001b[39m simulink\u001b[39m.\u001b[39mcreate_model()\n",
      "\u001b[1;31mModuleNotFoundError\u001b[0m: No module named 'simulink'"
     ]
    }
   ],
   "source": [
    "import simulink\n",
    "\n",
    "# Create a new Simulink model\n",
    "model = simulink.create_model()\n",
    "\n",
    "# Add a source block to the model\n",
    "source_block = simulink.add_block(model, 'simulink/Sources/Step')\n",
    "\n",
    "# Set the amplitude of the source block to 1\n",
    "simulink.set_param(source_block, 'Amplitude', 1)\n",
    "\n",
    "# Add a gain block to the model\n",
    "gain_block = simulink.add_block(model, 'simulink/Math Operations/Gain')\n",
    "\n",
    "# Set the gain of the gain block to 10\n",
    "simulink.set_param(gain_block, 'Gain', 10)\n",
    "\n",
    "# Add a sink block to the model\n",
    "sink_block = simulink.add_block(model, 'simulink/Sinks/Display')\n",
    "\n",
    "# Connect the source block to the gain block\n",
    "simulink.connect_blocks(model, source_block, gain_block)\n",
    "\n",
    "# Connect the gain block to the sink block\n",
    "simulink.connect_blocks(model, gain_block, sink_block)\n",
    "\n",
    "# Save the Simulink model\n",
    "simulink.save_model(model, 'simple_simulation.slx')\n",
    "\n",
    "# Execute the Simulink simulation\n",
    "simulink.run_simulation('simple_simulation.slx')\n",
    "\n",
    "# Get the simulation results\n",
    "time = simulink.get_time('simple_simulation.slx')\n",
    "output = simulink.get_output('simple_simulation.slx', 'sink')\n",
    "\n",
    "# Plot the simulation results\n",
    "import matplotlib.pyplot as plt\n",
    "plt.plot(time, output)\n",
    "plt.xlabel('Time (s)')\n",
    "plt.ylabel('Output')\n",
    "plt.title('Simple Simulation')\n",
    "plt.grid()\n",
    "plt.show()\n"
   ]
  },
  {
   "cell_type": "code",
   "execution_count": null,
   "metadata": {},
   "outputs": [],
   "source": []
  }
 ],
 "metadata": {
  "kernelspec": {
   "display_name": "predis_venc",
   "language": "python",
   "name": "python3"
  },
  "language_info": {
   "codemirror_mode": {
    "name": "ipython",
    "version": 3
   },
   "file_extension": ".py",
   "mimetype": "text/x-python",
   "name": "python",
   "nbconvert_exporter": "python",
   "pygments_lexer": "ipython3",
   "version": "3.11.3"
  }
 },
 "nbformat": 4,
 "nbformat_minor": 2
}
