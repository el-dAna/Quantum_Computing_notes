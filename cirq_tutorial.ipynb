{
 "cells": [
  {
   "cell_type": "code",
   "execution_count": 2,
   "metadata": {},
   "outputs": [],
   "source": [
    "import cirq\n",
    "import numpy as np\n",
    "import cirq_web.bloch_sphere as bloch_sphere\n"
   ]
  },
  {
   "cell_type": "code",
   "execution_count": null,
   "metadata": {},
   "outputs": [],
   "source": [
    "vec = [1, 0] # a vector\n",
    "plus_state = [1/np.sqrt(2), 1/np.sqrt(2)] # another vector\n",
    "cirq.dirac_notation(vec) # visualising vetor in dirac notation (ket)\n",
    "bloch_sphere.BlochSphere(state_vector=vec, sphere_radius=3) #  isualistion on the bloch sphere"
   ]
  },
  {
   "cell_type": "code",
   "execution_count": null,
   "metadata": {},
   "outputs": [],
   "source": [
    "simulator = cirq.Simulator() # initialises a simulator\n",
    "\n",
    "my_qubit = cirq.NamedQubit('q0') # initialises a qubit\n",
    "my_circuit = cirq.Circuit() # initialises an empty circuit\n",
    "my_circuit.append(cirq.measure(my_qubit)) # appends a measurement to a circuit\n",
    "\n",
    "result = simulator.run(my_circuit) # gets results from simulation\n",
    "result "
   ]
  }
 ],
 "metadata": {
  "kernelspec": {
   "display_name": "Qsum_venv",
   "language": "python",
   "name": "python3"
  },
  "language_info": {
   "codemirror_mode": {
    "name": "ipython",
    "version": 3
   },
   "file_extension": ".py",
   "mimetype": "text/x-python",
   "name": "python",
   "nbconvert_exporter": "python",
   "pygments_lexer": "ipython3",
   "version": "3.11.4"
  }
 },
 "nbformat": 4,
 "nbformat_minor": 2
}
