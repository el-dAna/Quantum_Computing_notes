{
 "cells": [
  {
   "cell_type": "code",
   "execution_count": 9,
   "metadata": {},
   "outputs": [],
   "source": [
    "from qiskit import QuantumRegister, ClassicalRegister\n",
    "from qiskit import QuantumCircuit, execute\n",
    "from qiskit_ibm_provider import IBMProvider\n",
    "from qiskit.tools.monitor import job_monitor\n",
    "import config\n",
    "\n",
    "IBMProvider.save_account(config.ibm_quantum_platform_key, overwrite=True)\n",
    "provider = IBMProvider()\n",
    "\n",
    "backend = provider.get_backend('ibmq_qasm_simulator')"
   ]
  },
  {
   "cell_type": "code",
   "execution_count": null,
   "metadata": {},
   "outputs": [],
   "source": [
    "dir(provider)"
   ]
  },
  {
   "cell_type": "code",
   "execution_count": null,
   "metadata": {},
   "outputs": [],
   "source": [
    "q = QuantumRegister(2,'q')\n",
    "c = ClassicalRegister(2,'c')\n",
    "\n",
    "def firstBellState():\n",
    "    circuit = QuantumCircuit(q,c)\n",
    "\n",
    "    circuit.h(q[0]) # Hadamard gate \n",
    "    circuit.cx(q[0],q[1]) # CNOT gate\n",
    "    circuit.measure(q,c) # Qubit Measurment\n",
    "\n",
    "    print(circuit)\n",
    "\n",
    "    job = execute(circuit, backend, shots=8192)\n",
    "    \n",
    "    job_monitor(job)\n",
    "    counts = job.result().get_counts()\n",
    "\n",
    "    print(counts)\n",
    "\n",
    "def secondBellState():\n",
    "    circuit = QuantumCircuit(q,c)\n",
    "\n",
    "    circuit.x(q[0]) # Pauli-X gate \n",
    "    circuit.h(q[0]) # Hadamard gate \n",
    "    circuit.cx(q[0],q[1]) # CNOT gate\n",
    "    circuit.measure(q,c) # Qubit Measurment\n",
    "\n",
    "    print(circuit)\n",
    "\n",
    "    job = execute(circuit, backend, shots=8192)\n",
    "    \n",
    "    job_monitor(job)\n",
    "    counts = job.result().get_counts()\n",
    "\n",
    "    print(counts)\n",
    "\n",
    "def thirdBellState():\n",
    "    circuit = QuantumCircuit(q,c)\n",
    "\n",
    "    circuit.x(q[1]) # Pauli-X gate \n",
    "    circuit.h(q[0]) # Hadamard gate \n",
    "    circuit.cx(q[0],q[1]) # CNOT gate\n",
    "    circuit.measure(q,c) # Qubit Measurment\n",
    "\n",
    "    print(circuit)\n",
    "\n",
    "\n",
    "    job = execute(circuit, backend, shots=8192)\n",
    "    \n",
    "    job_monitor(job)\n",
    "    counts = job.result().get_counts()\n",
    "\n",
    "    print(counts)\n",
    "\n",
    "def fourthBellState():\n",
    "    circuit = QuantumCircuit(q,c)\n",
    "\n",
    "    circuit.x(q[1]) # Pauli-X gate \n",
    "    circuit.h(q[0]) # Hadamard gate\n",
    "    circuit.z(q[0]) # Pauli-Z gate\n",
    "    circuit.z(q[1]) # Pauli-Z  gate \n",
    "    circuit.cx(q[0],q[1]) # CNOT gate\n",
    "    circuit.measure(q,c) # Qubit Measurment\n",
    "\n",
    "    print(circuit)\n",
    "\n",
    "    job = execute(circuit, backend, shots=8192)\n",
    "    \n",
    "    job_monitor(job)\n",
    "    counts = job.result().get_counts()\n",
    "\n",
    "    print(counts)\n",
    "\n",
    "print(\"Creating first Bell State:\\n\")\n",
    "firstBellState()\n",
    "print(\"\\nCreating second Bell State:\\n\")\n",
    "secondBellState()\n",
    "print(\"\\nCreating third Bell State:\\n\")\n",
    "thirdBellState()\n",
    "print(\"\\nCreating fourth Bell State:\\n\")\n",
    "fourthBellState()"
   ]
  },
  {
   "cell_type": "code",
   "execution_count": null,
   "metadata": {},
   "outputs": [],
   "source": [
    "from qiskit import QuantumCircuit\n",
    "from qiskit.quantum_info import Statevector\n",
    "\n",
    "qc = QuantumCircuit(2)\n",
    "\n",
    "# This calculates what the state vector of our qubits would be\n",
    "# after passing through the circuit 'qc'\n",
    "ket = Statevector(qc)\n",
    "\n",
    "# The code below writes down the state vector.\n",
    "# Since it's the last line in the cell, the cell will display it as output\n",
    "ket.draw()\n"
   ]
  },
  {
   "cell_type": "code",
   "execution_count": null,
   "metadata": {},
   "outputs": [],
   "source": [
    "qc.x(0) # flipping state of first qubit\n",
    "qc.cx(1,0) # cnot on second qubit to control first qubit\n",
    "ket = Statevector(qc)\n",
    "ket.draw()\n"
   ]
  },
  {
   "cell_type": "markdown",
   "metadata": {},
   "source": [
    "# ENTANGLEMENT\n",
    "This occurs when a quantum state cannot be represented by a product of qubits. To illustrate we set the second qubit to the ket plus naught state(a product state of ket plus and ket naught states)"
   ]
  },
  {
   "cell_type": "code",
   "execution_count": null,
   "metadata": {},
   "outputs": [],
   "source": [
    "qc.h(1)\n",
    "ket = Statevector(qc)\n",
    "ket.draw()\n"
   ]
  },
  {
   "cell_type": "code",
   "execution_count": null,
   "metadata": {},
   "outputs": [],
   "source": [
    "# applying the cnot on qubit 1 to see the results. this outputs the ket psi plus state which cannot be represented by the product of any pure qubit state\n",
    "qc.cx(1, 0)\n",
    "ket = Statevector(qc)\n",
    "ket.draw()\n",
    "qc.draw()\n"
   ]
  },
  {
   "cell_type": "markdown",
   "metadata": {},
   "source": [
    "# ALLICE'S MESSAGE TO BOB USING ENTANGLED STATES\n",
    "I accidentally got the misread the logic of qiskit code in encoding message.\n",
    "It turned out encoding for 00, 01, 10 states are same except 11 state which was off by a phase.\n",
    "\n",
    "The order of gate application in Qiskit logic is important. Since single gates are applied for 01 amd 10, order really is not important.\n",
    "For 11, z has to be applied on qubit 1 before x on same qubit.\n",
    "Performing an x before z on qubit 1 results in an output of MESSAGE==11 in my logic.\n",
    "\n",
    "Likewise mine, since no tow gates are applied on same qubit consecurtively, order really SHOULD BE OF NO IMPORTNACE.\n",
    "When the output for MESSAGE==11 is examined\n",
    "It turns out an x on qubit 0 'then' a z on qubit 1 gives output for 11 in my logic.\n",
    "But a z on qubit 1 then an x on 0 gives output for 11 in QISKIT's logic\n",
    "\n",
    "Overall, using bob's decoder, both QISKIt and my accidental ENCODING works/ Thus the decoder decodes the correct input message.\n",
    "The advantage QISKIT's has is that since the encodiing is done on only one qubit but still affects the overall measurement, the non-encoding qubit(0) could have been trnsmitted. Then later the \n",
    "message is encoded in qubit 1 and still affects the overall outcome. Only one qubit used to encode message!\n",
    "In my accidnetal case, both qubits are encoding and deoes not give any advantage of sending one bit before the other, both have to wait for the message to send a total of 2 qubits."
   ]
  },
  {
   "cell_type": "code",
   "execution_count": null,
   "metadata": {},
   "outputs": [],
   "source": [
    "from qiskit import QuantumCircuit\n",
    "from qiskit.quantum_info import Statevector\n",
    "\n",
    "MESSAGE = \"00\"\n",
    "\n",
    "qc = QuantumCircuit(2)\n",
    "qc.h(1)\n",
    "qc.cx(1,0)\n",
    "\n",
    "# QISKIT ENCODING\n",
    "# if MESSAGE[-2]=='1':\n",
    "#     qc.z(1)\n",
    "# if MESSAGE[-1]=='1':\n",
    "#     qc.x(1)\n",
    "\n",
    "# MY ACCIDENTAL ENCODING\n",
    "if MESSAGE[-2]=='1':\n",
    "    qc.z(1)\n",
    "if MESSAGE[-1]=='1':\n",
    "    qc.x(0)\n",
    "\n",
    "ket = Statevector(qc)\n",
    "ket.draw()\n",
    "# qc.draw()"
   ]
  },
  {
   "cell_type": "code",
   "execution_count": null,
   "metadata": {},
   "outputs": [],
   "source": [
    "# BOD'S DECODER\n",
    "from qiskit import Aer\n",
    "backend = Aer.get_backend('aer_simulator')\n",
    "\n",
    "# Bob measures\n",
    "qc_bob = QuantumCircuit(2,2)\n",
    "qc_bob.cx(1, 0)\n",
    "qc_bob.h(1)\n",
    "qc_bob.measure([0,1],[0,1])\n",
    "\n",
    "backend.run(qc.compose(qc_bob)).result().get_counts()\n",
    "\n",
    "#qc_bob.draw()"
   ]
  },
  {
   "cell_type": "code",
   "execution_count": 1,
   "metadata": {},
   "outputs": [
    {
     "ename": "ModuleNotFoundError",
     "evalue": "No module named 'hello_qiskit'",
     "output_type": "error",
     "traceback": [
      "\u001b[1;31m---------------------------------------------------------------------------\u001b[0m",
      "\u001b[1;31mModuleNotFoundError\u001b[0m                       Traceback (most recent call last)",
      "Cell \u001b[1;32mIn[1], line 1\u001b[0m\n\u001b[1;32m----> 1\u001b[0m \u001b[39mfrom\u001b[39;00m \u001b[39mhello_qiskit\u001b[39;00m \u001b[39mimport\u001b[39;00m run_puzzle\n",
      "\u001b[1;31mModuleNotFoundError\u001b[0m: No module named 'hello_qiskit'"
     ]
    }
   ],
   "source": [
    "from hello_qiskit import run_puzzle"
   ]
  },
  {
   "cell_type": "code",
   "execution_count": null,
   "metadata": {},
   "outputs": [],
   "source": []
  }
 ],
 "metadata": {
  "kernelspec": {
   "display_name": "qs_venv",
   "language": "python",
   "name": "python3"
  },
  "language_info": {
   "codemirror_mode": {
    "name": "ipython",
    "version": 3
   },
   "file_extension": ".py",
   "mimetype": "text/x-python",
   "name": "python",
   "nbconvert_exporter": "python",
   "pygments_lexer": "ipython3",
   "version": "3.11.4"
  },
  "orig_nbformat": 4
 },
 "nbformat": 4,
 "nbformat_minor": 2
}
